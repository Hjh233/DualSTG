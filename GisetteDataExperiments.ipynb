{
 "cells": [
  {
   "cell_type": "code",
   "execution_count": 12,
   "metadata": {},
   "outputs": [],
   "source": [
    "from scipy.io import loadmat\n",
    "from scipy.sparse import issparse\n",
    "import numpy as np\n",
    "from sklearn.preprocessing import MinMaxScaler\n",
    "from Data import VFLDataset\n",
    "from torch.utils.data import DataLoader\n",
    "import VFL\n",
    "import torch\n",
    "import os\n",
    "DIR = \"Data\""
   ]
  },
  {
   "cell_type": "code",
   "execution_count": 13,
   "metadata": {},
   "outputs": [
    {
     "name": "stdout",
     "output_type": "stream",
     "text": [
      "gisette.mat (7000, 5000) (7000,)\n",
      "Client 0: Feature Index 0-1666\n",
      "Client 1: Feature Index 1667-3333\n",
      "Server : Feature Index 3334-4999\n"
     ]
    }
   ],
   "source": [
    "file_name = 'gisette.mat'\n",
    "mat = loadmat(os.path.join(DIR, file_name))\n",
    "X = mat[\"X\"]\n",
    "y = mat[\"Y\"]\n",
    "if issparse(X):\n",
    "    X = X.todense()\n",
    "y = y.flatten()\n",
    "print(file_name, X.shape, y.shape)\n",
    "y[np.where(y == -1)] = 0\n",
    "scaler = MinMaxScaler()\n",
    "X = scaler.fit_transform(X)\n",
    "dataset = VFLDataset(data_source=(X, y), \n",
    "                    num_clients=2,\n",
    "                    gini_portion=None,\n",
    "                    insert_noise=False,\n",
    "                    test_size=0.3)\n",
    "train_loader = DataLoader(dataset.train(), batch_size=512, shuffle=True)\n",
    "val_loader = DataLoader(dataset.valid(), batch_size=1000, shuffle=True)\n",
    "test_loader = DataLoader(dataset.test(), batch_size=1000, shuffle=True)\n",
    "input_dim_list = dataset.get_input_dim_list()\n",
    "output_dim = np.unique(y).size\n",
    "criterion = torch.nn.CrossEntropyLoss()"
   ]
  },
  {
   "cell_type": "markdown",
   "metadata": {},
   "source": [
    "fnn"
   ]
  },
  {
   "cell_type": "code",
   "execution_count": 32,
   "metadata": {},
   "outputs": [],
   "source": [
    "%%capture\n",
    "models, top_model = VFL.make_binary_models(\n",
    "                            input_dim_list=input_dim_list,\n",
    "                            type='FNN',\n",
    "                            emb_dim=8,\n",
    "                            output_dim=output_dim, hidden_dims=[32, 16],\n",
    "                            activation='relu')\n",
    "fnn_history = VFL.train(models, top_model, train_loader, val_loader, test_loader,\n",
    "                epochs=40, optimizer='Adam',verbose=True, save_mask_at=10000, \n",
    "                criterion=criterion)"
   ]
  },
  {
   "cell_type": "code",
   "execution_count": 33,
   "metadata": {},
   "outputs": [
    {
     "data": {
      "text/html": [
       "<div>\n",
       "<style scoped>\n",
       "    .dataframe tbody tr th:only-of-type {\n",
       "        vertical-align: middle;\n",
       "    }\n",
       "\n",
       "    .dataframe tbody tr th {\n",
       "        vertical-align: top;\n",
       "    }\n",
       "\n",
       "    .dataframe thead th {\n",
       "        text-align: right;\n",
       "    }\n",
       "</style>\n",
       "<table border=\"1\" class=\"dataframe\">\n",
       "  <thead>\n",
       "    <tr style=\"text-align: right;\">\n",
       "      <th></th>\n",
       "      <th>train_loss</th>\n",
       "      <th>train_acc</th>\n",
       "      <th>val_acc</th>\n",
       "      <th>test_acc</th>\n",
       "    </tr>\n",
       "  </thead>\n",
       "  <tbody>\n",
       "    <tr>\n",
       "      <th>35</th>\n",
       "      <td>0.003317</td>\n",
       "      <td>1.0</td>\n",
       "      <td>1.0</td>\n",
       "      <td>1.0</td>\n",
       "    </tr>\n",
       "    <tr>\n",
       "      <th>36</th>\n",
       "      <td>0.003226</td>\n",
       "      <td>1.0</td>\n",
       "      <td>1.0</td>\n",
       "      <td>1.0</td>\n",
       "    </tr>\n",
       "    <tr>\n",
       "      <th>37</th>\n",
       "      <td>0.002888</td>\n",
       "      <td>1.0</td>\n",
       "      <td>1.0</td>\n",
       "      <td>1.0</td>\n",
       "    </tr>\n",
       "    <tr>\n",
       "      <th>38</th>\n",
       "      <td>0.002647</td>\n",
       "      <td>1.0</td>\n",
       "      <td>1.0</td>\n",
       "      <td>1.0</td>\n",
       "    </tr>\n",
       "    <tr>\n",
       "      <th>39</th>\n",
       "      <td>0.002615</td>\n",
       "      <td>1.0</td>\n",
       "      <td>1.0</td>\n",
       "      <td>1.0</td>\n",
       "    </tr>\n",
       "  </tbody>\n",
       "</table>\n",
       "</div>"
      ],
      "text/plain": [
       "    train_loss  train_acc  val_acc  test_acc\n",
       "35    0.003317        1.0      1.0       1.0\n",
       "36    0.003226        1.0      1.0       1.0\n",
       "37    0.002888        1.0      1.0       1.0\n",
       "38    0.002647        1.0      1.0       1.0\n",
       "39    0.002615        1.0      1.0       1.0"
      ]
     },
     "execution_count": 33,
     "metadata": {},
     "output_type": "execute_result"
    }
   ],
   "source": [
    "fnn_history.tail(5)"
   ]
  },
  {
   "cell_type": "markdown",
   "metadata": {},
   "source": [
    "stg"
   ]
  },
  {
   "cell_type": "code",
   "execution_count": 38,
   "metadata": {},
   "outputs": [],
   "source": [
    "%%capture\n",
    "models, top_model = VFL.make_binary_models(\n",
    "                            input_dim_list=input_dim_list,\n",
    "                            type='STG',\n",
    "                            emb_dim=8,\n",
    "                            output_dim=output_dim, hidden_dims=[32, 16],\n",
    "                            activation='relu', lam=0.1)\n",
    "stg_history = VFL.train(models, top_model, train_loader, val_loader, test_loader,\n",
    "                epochs=40,  optimizer='Adam',verbose=True, save_mask_at=10000, \n",
    "                criterion=criterion)"
   ]
  },
  {
   "cell_type": "code",
   "execution_count": 39,
   "metadata": {},
   "outputs": [
    {
     "data": {
      "text/html": [
       "<div>\n",
       "<style scoped>\n",
       "    .dataframe tbody tr th:only-of-type {\n",
       "        vertical-align: middle;\n",
       "    }\n",
       "\n",
       "    .dataframe tbody tr th {\n",
       "        vertical-align: top;\n",
       "    }\n",
       "\n",
       "    .dataframe thead th {\n",
       "        text-align: right;\n",
       "    }\n",
       "</style>\n",
       "<table border=\"1\" class=\"dataframe\">\n",
       "  <thead>\n",
       "    <tr style=\"text-align: right;\">\n",
       "      <th></th>\n",
       "      <th>train_loss</th>\n",
       "      <th>train_acc</th>\n",
       "      <th>val_acc</th>\n",
       "      <th>test_acc</th>\n",
       "      <th>num_feats</th>\n",
       "    </tr>\n",
       "  </thead>\n",
       "  <tbody>\n",
       "    <tr>\n",
       "      <th>35</th>\n",
       "      <td>0.320679</td>\n",
       "      <td>0.998437</td>\n",
       "      <td>0.998667</td>\n",
       "      <td>0.998000</td>\n",
       "      <td>4085</td>\n",
       "    </tr>\n",
       "    <tr>\n",
       "      <th>36</th>\n",
       "      <td>0.401586</td>\n",
       "      <td>0.992969</td>\n",
       "      <td>0.984333</td>\n",
       "      <td>0.984000</td>\n",
       "      <td>4078</td>\n",
       "    </tr>\n",
       "    <tr>\n",
       "      <th>37</th>\n",
       "      <td>0.319778</td>\n",
       "      <td>0.997266</td>\n",
       "      <td>0.998333</td>\n",
       "      <td>0.990000</td>\n",
       "      <td>4073</td>\n",
       "    </tr>\n",
       "    <tr>\n",
       "      <th>38</th>\n",
       "      <td>0.326492</td>\n",
       "      <td>0.997266</td>\n",
       "      <td>0.996000</td>\n",
       "      <td>0.998333</td>\n",
       "      <td>4057</td>\n",
       "    </tr>\n",
       "    <tr>\n",
       "      <th>39</th>\n",
       "      <td>0.303505</td>\n",
       "      <td>0.998828</td>\n",
       "      <td>0.999000</td>\n",
       "      <td>0.995333</td>\n",
       "      <td>4048</td>\n",
       "    </tr>\n",
       "  </tbody>\n",
       "</table>\n",
       "</div>"
      ],
      "text/plain": [
       "    train_loss  train_acc   val_acc  test_acc  num_feats\n",
       "35    0.320679   0.998437  0.998667  0.998000       4085\n",
       "36    0.401586   0.992969  0.984333  0.984000       4078\n",
       "37    0.319778   0.997266  0.998333  0.990000       4073\n",
       "38    0.326492   0.997266  0.996000  0.998333       4057\n",
       "39    0.303505   0.998828  0.999000  0.995333       4048"
      ]
     },
     "execution_count": 39,
     "metadata": {},
     "output_type": "execute_result"
    }
   ],
   "source": [
    "stg_history.tail(5)"
   ]
  },
  {
   "cell_type": "markdown",
   "metadata": {},
   "source": [
    "STG with GINI Initialization"
   ]
  },
  {
   "cell_type": "code",
   "execution_count": 41,
   "metadata": {},
   "outputs": [],
   "source": [
    "%%capture\n",
    "gini_labels = dataset.gini_filter(0.5)\n",
    "feat_idx_list = dataset.get_feature_index_list()\n",
    "mus = VFL.initialize_mu(gini_labels, feat_idx_list)\n",
    "models, top_model = VFL.make_binary_models(\n",
    "                            input_dim_list=input_dim_list,\n",
    "                            type='STG',\n",
    "                            emb_dim=8,\n",
    "                            output_dim=output_dim, hidden_dims=[32, 16],\n",
    "                            activation='relu', lam=0.1, mus=mus)\n",
    "stg_gini_history = VFL.train(models, top_model, train_loader, val_loader, test_loader,\n",
    "                epochs=40,  optimizer='Adam',verbose=True, save_mask_at=10000, \n",
    "                criterion=criterion)"
   ]
  },
  {
   "cell_type": "code",
   "execution_count": 42,
   "metadata": {},
   "outputs": [
    {
     "data": {
      "text/html": [
       "<div>\n",
       "<style scoped>\n",
       "    .dataframe tbody tr th:only-of-type {\n",
       "        vertical-align: middle;\n",
       "    }\n",
       "\n",
       "    .dataframe tbody tr th {\n",
       "        vertical-align: top;\n",
       "    }\n",
       "\n",
       "    .dataframe thead th {\n",
       "        text-align: right;\n",
       "    }\n",
       "</style>\n",
       "<table border=\"1\" class=\"dataframe\">\n",
       "  <thead>\n",
       "    <tr style=\"text-align: right;\">\n",
       "      <th></th>\n",
       "      <th>train_loss</th>\n",
       "      <th>train_acc</th>\n",
       "      <th>val_acc</th>\n",
       "      <th>test_acc</th>\n",
       "      <th>num_feats</th>\n",
       "    </tr>\n",
       "  </thead>\n",
       "  <tbody>\n",
       "    <tr>\n",
       "      <th>35</th>\n",
       "      <td>0.379172</td>\n",
       "      <td>0.989904</td>\n",
       "      <td>0.996667</td>\n",
       "      <td>0.994667</td>\n",
       "      <td>2990</td>\n",
       "    </tr>\n",
       "    <tr>\n",
       "      <th>36</th>\n",
       "      <td>0.370927</td>\n",
       "      <td>0.992248</td>\n",
       "      <td>0.996000</td>\n",
       "      <td>0.990667</td>\n",
       "      <td>2987</td>\n",
       "    </tr>\n",
       "    <tr>\n",
       "      <th>37</th>\n",
       "      <td>0.438286</td>\n",
       "      <td>0.987500</td>\n",
       "      <td>0.999667</td>\n",
       "      <td>0.999000</td>\n",
       "      <td>2971</td>\n",
       "    </tr>\n",
       "    <tr>\n",
       "      <th>38</th>\n",
       "      <td>0.343667</td>\n",
       "      <td>0.996484</td>\n",
       "      <td>0.994333</td>\n",
       "      <td>0.985000</td>\n",
       "      <td>2958</td>\n",
       "    </tr>\n",
       "    <tr>\n",
       "      <th>39</th>\n",
       "      <td>0.332790</td>\n",
       "      <td>0.995703</td>\n",
       "      <td>0.999000</td>\n",
       "      <td>0.998000</td>\n",
       "      <td>2938</td>\n",
       "    </tr>\n",
       "  </tbody>\n",
       "</table>\n",
       "</div>"
      ],
      "text/plain": [
       "    train_loss  train_acc   val_acc  test_acc  num_feats\n",
       "35    0.379172   0.989904  0.996667  0.994667       2990\n",
       "36    0.370927   0.992248  0.996000  0.990667       2987\n",
       "37    0.438286   0.987500  0.999667  0.999000       2971\n",
       "38    0.343667   0.996484  0.994333  0.985000       2958\n",
       "39    0.332790   0.995703  0.999000  0.998000       2938"
      ]
     },
     "execution_count": 42,
     "metadata": {},
     "output_type": "execute_result"
    }
   ],
   "source": [
    "stg_gini_history.tail(5)"
   ]
  },
  {
   "cell_type": "markdown",
   "metadata": {},
   "source": [
    "Dual STG with GINI Initialization"
   ]
  },
  {
   "cell_type": "code",
   "execution_count": 49,
   "metadata": {},
   "outputs": [],
   "source": [
    "%%capture\n",
    "mus = VFL.initialize_mu(gini_labels, feat_idx_list)\n",
    "models, top_model = VFL.make_binary_models(\n",
    "    input_dim_list=input_dim_list,\n",
    "    type=\"DualSTG\",\n",
    "    emb_dim=8,\n",
    "    output_dim=output_dim,\n",
    "    hidden_dims=[32, 16],\n",
    "    activation=\"relu\",\n",
    "    mus=mus, top_lam=0.1, lam=0.1)\n",
    "dual_stg_gini_history = VFL.train(\n",
    "    models,\n",
    "    top_model,\n",
    "    train_loader,\n",
    "    val_loader,\n",
    "    test_loader,\n",
    "    epochs=40,\n",
    "    lr=0.01,\n",
    "    optimizer='Adam',\n",
    "    criterion=criterion,\n",
    "    verbose=True,\n",
    "    save_mask_at=100000, freeze_top_till=0)"
   ]
  },
  {
   "cell_type": "code",
   "execution_count": 50,
   "metadata": {},
   "outputs": [
    {
     "data": {
      "text/html": [
       "<div>\n",
       "<style scoped>\n",
       "    .dataframe tbody tr th:only-of-type {\n",
       "        vertical-align: middle;\n",
       "    }\n",
       "\n",
       "    .dataframe tbody tr th {\n",
       "        vertical-align: top;\n",
       "    }\n",
       "\n",
       "    .dataframe thead th {\n",
       "        text-align: right;\n",
       "    }\n",
       "</style>\n",
       "<table border=\"1\" class=\"dataframe\">\n",
       "  <thead>\n",
       "    <tr style=\"text-align: right;\">\n",
       "      <th></th>\n",
       "      <th>train_loss</th>\n",
       "      <th>train_acc</th>\n",
       "      <th>val_acc</th>\n",
       "      <th>test_acc</th>\n",
       "      <th>num_feats</th>\n",
       "      <th>num_emb</th>\n",
       "    </tr>\n",
       "  </thead>\n",
       "  <tbody>\n",
       "    <tr>\n",
       "      <th>35</th>\n",
       "      <td>0.603382</td>\n",
       "      <td>0.998047</td>\n",
       "      <td>0.997000</td>\n",
       "      <td>0.996667</td>\n",
       "      <td>2952</td>\n",
       "      <td>19</td>\n",
       "    </tr>\n",
       "    <tr>\n",
       "      <th>36</th>\n",
       "      <td>0.632965</td>\n",
       "      <td>0.994922</td>\n",
       "      <td>0.994667</td>\n",
       "      <td>0.999000</td>\n",
       "      <td>2952</td>\n",
       "      <td>18</td>\n",
       "    </tr>\n",
       "    <tr>\n",
       "      <th>37</th>\n",
       "      <td>0.604519</td>\n",
       "      <td>0.998047</td>\n",
       "      <td>0.993000</td>\n",
       "      <td>0.996333</td>\n",
       "      <td>2948</td>\n",
       "      <td>18</td>\n",
       "    </tr>\n",
       "    <tr>\n",
       "      <th>38</th>\n",
       "      <td>0.597055</td>\n",
       "      <td>0.999219</td>\n",
       "      <td>0.995000</td>\n",
       "      <td>0.990000</td>\n",
       "      <td>2939</td>\n",
       "      <td>18</td>\n",
       "    </tr>\n",
       "    <tr>\n",
       "      <th>39</th>\n",
       "      <td>0.650317</td>\n",
       "      <td>0.994531</td>\n",
       "      <td>0.995333</td>\n",
       "      <td>0.996000</td>\n",
       "      <td>2930</td>\n",
       "      <td>17</td>\n",
       "    </tr>\n",
       "  </tbody>\n",
       "</table>\n",
       "</div>"
      ],
      "text/plain": [
       "    train_loss  train_acc   val_acc  test_acc  num_feats  num_emb\n",
       "35    0.603382   0.998047  0.997000  0.996667       2952       19\n",
       "36    0.632965   0.994922  0.994667  0.999000       2952       18\n",
       "37    0.604519   0.998047  0.993000  0.996333       2948       18\n",
       "38    0.597055   0.999219  0.995000  0.990000       2939       18\n",
       "39    0.650317   0.994531  0.995333  0.996000       2930       17"
      ]
     },
     "execution_count": 50,
     "metadata": {},
     "output_type": "execute_result"
    }
   ],
   "source": [
    "dual_stg_gini_history.tail(5)"
   ]
  },
  {
   "cell_type": "markdown",
   "metadata": {},
   "source": [
    "dual stg with longer training"
   ]
  },
  {
   "cell_type": "code",
   "execution_count": 51,
   "metadata": {},
   "outputs": [],
   "source": [
    "%%capture\n",
    "mus = VFL.initialize_mu(gini_labels, feat_idx_list)\n",
    "models, top_model = VFL.make_binary_models(\n",
    "    input_dim_list=input_dim_list,\n",
    "    type=\"DualSTG\",\n",
    "    emb_dim=8,\n",
    "    output_dim=output_dim,\n",
    "    hidden_dims=[32, 16],\n",
    "    activation=\"relu\",\n",
    "    mus=mus, top_lam=0.1, lam=0.1)\n",
    "longer_dual_stg_gini_history = VFL.train(\n",
    "    models,\n",
    "    top_model,\n",
    "    train_loader,\n",
    "    val_loader,\n",
    "    test_loader,\n",
    "    epochs=80,\n",
    "\n",
    "    optimizer='Adam',\n",
    "    criterion=criterion,\n",
    "    verbose=True,\n",
    "    save_mask_at=100000, freeze_top_till=0)"
   ]
  },
  {
   "cell_type": "code",
   "execution_count": 52,
   "metadata": {},
   "outputs": [
    {
     "data": {
      "text/html": [
       "<div>\n",
       "<style scoped>\n",
       "    .dataframe tbody tr th:only-of-type {\n",
       "        vertical-align: middle;\n",
       "    }\n",
       "\n",
       "    .dataframe tbody tr th {\n",
       "        vertical-align: top;\n",
       "    }\n",
       "\n",
       "    .dataframe thead th {\n",
       "        text-align: right;\n",
       "    }\n",
       "</style>\n",
       "<table border=\"1\" class=\"dataframe\">\n",
       "  <thead>\n",
       "    <tr style=\"text-align: right;\">\n",
       "      <th></th>\n",
       "      <th>train_loss</th>\n",
       "      <th>train_acc</th>\n",
       "      <th>val_acc</th>\n",
       "      <th>test_acc</th>\n",
       "      <th>num_feats</th>\n",
       "      <th>num_emb</th>\n",
       "    </tr>\n",
       "  </thead>\n",
       "  <tbody>\n",
       "    <tr>\n",
       "      <th>75</th>\n",
       "      <td>0.566869</td>\n",
       "      <td>0.994531</td>\n",
       "      <td>0.987667</td>\n",
       "      <td>0.998000</td>\n",
       "      <td>2673</td>\n",
       "      <td>12</td>\n",
       "    </tr>\n",
       "    <tr>\n",
       "      <th>76</th>\n",
       "      <td>0.596418</td>\n",
       "      <td>0.991016</td>\n",
       "      <td>0.990667</td>\n",
       "      <td>0.996667</td>\n",
       "      <td>2670</td>\n",
       "      <td>12</td>\n",
       "    </tr>\n",
       "    <tr>\n",
       "      <th>77</th>\n",
       "      <td>0.593962</td>\n",
       "      <td>0.992578</td>\n",
       "      <td>0.989667</td>\n",
       "      <td>0.986333</td>\n",
       "      <td>2664</td>\n",
       "      <td>12</td>\n",
       "    </tr>\n",
       "    <tr>\n",
       "      <th>78</th>\n",
       "      <td>0.681796</td>\n",
       "      <td>0.983654</td>\n",
       "      <td>0.999667</td>\n",
       "      <td>0.989000</td>\n",
       "      <td>2667</td>\n",
       "      <td>12</td>\n",
       "    </tr>\n",
       "    <tr>\n",
       "      <th>79</th>\n",
       "      <td>0.566594</td>\n",
       "      <td>0.993359</td>\n",
       "      <td>0.991333</td>\n",
       "      <td>0.992333</td>\n",
       "      <td>2670</td>\n",
       "      <td>12</td>\n",
       "    </tr>\n",
       "  </tbody>\n",
       "</table>\n",
       "</div>"
      ],
      "text/plain": [
       "    train_loss  train_acc   val_acc  test_acc  num_feats  num_emb\n",
       "75    0.566869   0.994531  0.987667  0.998000       2673       12\n",
       "76    0.596418   0.991016  0.990667  0.996667       2670       12\n",
       "77    0.593962   0.992578  0.989667  0.986333       2664       12\n",
       "78    0.681796   0.983654  0.999667  0.989000       2667       12\n",
       "79    0.566594   0.993359  0.991333  0.992333       2670       12"
      ]
     },
     "execution_count": 52,
     "metadata": {},
     "output_type": "execute_result"
    }
   ],
   "source": [
    "longer_dual_stg_gini_history.tail(5)"
   ]
  },
  {
   "cell_type": "markdown",
   "metadata": {},
   "source": [
    "SFFS Filtered (0.5)"
   ]
  },
  {
   "cell_type": "code",
   "execution_count": 53,
   "metadata": {},
   "outputs": [
    {
     "name": "stdout",
     "output_type": "stream",
     "text": [
      "total computation time for pinv is: 34.09199905395508\n"
     ]
    },
    {
     "name": "stderr",
     "output_type": "stream",
     "text": [
      "c:\\Users\\HONGYI001\\Desktop\\STG\\SFFS.py:29: RuntimeWarning: divide by zero encountered in double_scalars\n",
      "  f_statistics[j] = theta_param[j] ** 2 / diag_x[j]\n",
      "c:\\Users\\HONGYI001\\Desktop\\STG\\SFFS.py:29: RuntimeWarning: invalid value encountered in double_scalars\n",
      "  f_statistics[j] = theta_param[j] ** 2 / diag_x[j]\n"
     ]
    }
   ],
   "source": [
    "from SFFS import get_f_stat_index\n",
    "index = get_f_stat_index(X, y)"
   ]
  },
  {
   "cell_type": "code",
   "execution_count": 55,
   "metadata": {},
   "outputs": [
    {
     "name": "stdout",
     "output_type": "stream",
     "text": [
      "(7000, 2500)\n"
     ]
    }
   ],
   "source": [
    "X_filtered = X[:, index[:int(0.5*len(index))]]\n",
    "print(X_filtered.shape)"
   ]
  },
  {
   "cell_type": "code",
   "execution_count": 56,
   "metadata": {},
   "outputs": [
    {
     "name": "stdout",
     "output_type": "stream",
     "text": [
      "Client 0: Feature Index 0-833\n",
      "Client 1: Feature Index 834-1666\n",
      "Server : Feature Index 1667-2499\n"
     ]
    }
   ],
   "source": [
    "dataset = VFLDataset(data_source=(X_filtered, y), \n",
    "                    num_clients=2,\n",
    "                    gini_portion=None,\n",
    "                    insert_noise=False,\n",
    "                    test_size=0.3)\n",
    "train_loader = DataLoader(dataset.train(), batch_size=512, shuffle=True)\n",
    "val_loader = DataLoader(dataset.valid(), batch_size=1000, shuffle=True)\n",
    "test_loader = DataLoader(dataset.test(), batch_size=1000, shuffle=True)\n",
    "input_dim_list = dataset.get_input_dim_list()\n",
    "output_dim = np.unique(y).size\n",
    "criterion = torch.nn.CrossEntropyLoss()"
   ]
  },
  {
   "cell_type": "code",
   "execution_count": 79,
   "metadata": {},
   "outputs": [],
   "source": [
    "%%capture\n",
    "models, top_model = VFL.make_binary_models(\n",
    "                            input_dim_list=input_dim_list,\n",
    "                            type='FNN',\n",
    "                            emb_dim=8,\n",
    "                            output_dim=output_dim, hidden_dims=[32, 16],\n",
    "                            activation='relu')\n",
    "sffs_fnn_history = VFL.train(models, top_model, train_loader, val_loader, test_loader,\n",
    "                epochs=40,  optimizer='Adam',verbose=True, save_mask_at=10000, \n",
    "                criterion=criterion)"
   ]
  },
  {
   "cell_type": "code",
   "execution_count": 80,
   "metadata": {},
   "outputs": [
    {
     "data": {
      "text/html": [
       "<div>\n",
       "<style scoped>\n",
       "    .dataframe tbody tr th:only-of-type {\n",
       "        vertical-align: middle;\n",
       "    }\n",
       "\n",
       "    .dataframe tbody tr th {\n",
       "        vertical-align: top;\n",
       "    }\n",
       "\n",
       "    .dataframe thead th {\n",
       "        text-align: right;\n",
       "    }\n",
       "</style>\n",
       "<table border=\"1\" class=\"dataframe\">\n",
       "  <thead>\n",
       "    <tr style=\"text-align: right;\">\n",
       "      <th></th>\n",
       "      <th>train_loss</th>\n",
       "      <th>train_acc</th>\n",
       "      <th>val_acc</th>\n",
       "      <th>test_acc</th>\n",
       "    </tr>\n",
       "  </thead>\n",
       "  <tbody>\n",
       "    <tr>\n",
       "      <th>35</th>\n",
       "      <td>0.007199</td>\n",
       "      <td>1.0</td>\n",
       "      <td>1.0</td>\n",
       "      <td>1.0</td>\n",
       "    </tr>\n",
       "    <tr>\n",
       "      <th>36</th>\n",
       "      <td>0.007477</td>\n",
       "      <td>1.0</td>\n",
       "      <td>1.0</td>\n",
       "      <td>1.0</td>\n",
       "    </tr>\n",
       "    <tr>\n",
       "      <th>37</th>\n",
       "      <td>0.006844</td>\n",
       "      <td>1.0</td>\n",
       "      <td>1.0</td>\n",
       "      <td>1.0</td>\n",
       "    </tr>\n",
       "    <tr>\n",
       "      <th>38</th>\n",
       "      <td>0.005121</td>\n",
       "      <td>1.0</td>\n",
       "      <td>1.0</td>\n",
       "      <td>1.0</td>\n",
       "    </tr>\n",
       "    <tr>\n",
       "      <th>39</th>\n",
       "      <td>0.005115</td>\n",
       "      <td>1.0</td>\n",
       "      <td>1.0</td>\n",
       "      <td>1.0</td>\n",
       "    </tr>\n",
       "  </tbody>\n",
       "</table>\n",
       "</div>"
      ],
      "text/plain": [
       "    train_loss  train_acc  val_acc  test_acc\n",
       "35    0.007199        1.0      1.0       1.0\n",
       "36    0.007477        1.0      1.0       1.0\n",
       "37    0.006844        1.0      1.0       1.0\n",
       "38    0.005121        1.0      1.0       1.0\n",
       "39    0.005115        1.0      1.0       1.0"
      ]
     },
     "execution_count": 80,
     "metadata": {},
     "output_type": "execute_result"
    }
   ],
   "source": [
    "sffs_fnn_history.tail(5)"
   ]
  },
  {
   "cell_type": "markdown",
   "metadata": {},
   "source": [
    "---\n",
    "# Summary"
   ]
  },
  {
   "cell_type": "markdown",
   "metadata": {},
   "source": [
    "| Model                 | # Features | Test Acc | Ratio Embedding |\n",
    "|-----------------------|------------|----------|-----------------|\n",
    "| FNN                   | 5000       | 1        | 1               |\n",
    "| STG                   | 4048       | 0.9953   | 1               |\n",
    "| STG+GINI              | 2938       | 0.9980   | 1               |\n",
    "| DualSTG+GINI          | 2930       | 0.9960   | 0.70            |\n",
    "| DualSTG+GINI (double) | 2670       | 0.9923   | 0.5             |\n",
    "| SFFS->FNN             | 2500       | 1        | 1               |"
   ]
  },
  {
   "cell_type": "code",
   "execution_count": 82,
   "metadata": {},
   "outputs": [],
   "source": [
    "import dill\n",
    "dill.dump_session('GisetteDataExperiments.db')"
   ]
  }
 ],
 "metadata": {
  "interpreter": {
   "hash": "1579d4a348c2ef16482c05d3cfac916f73c8945ddf1938a1e045b3bdea82eece"
  },
  "kernelspec": {
   "display_name": "Python 3.9.7 ('VFL')",
   "language": "python",
   "name": "python3"
  },
  "language_info": {
   "codemirror_mode": {
    "name": "ipython",
    "version": 3
   },
   "file_extension": ".py",
   "mimetype": "text/x-python",
   "name": "python",
   "nbconvert_exporter": "python",
   "pygments_lexer": "ipython3",
   "version": "3.9.7"
  },
  "orig_nbformat": 4
 },
 "nbformat": 4,
 "nbformat_minor": 2
}
