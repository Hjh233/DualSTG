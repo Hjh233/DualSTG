{
 "cells": [
  {
   "cell_type": "code",
   "execution_count": 181,
   "metadata": {},
   "outputs": [],
   "source": [
    "from scipy.io import loadmat\n",
    "from scipy.sparse import issparse\n",
    "import numpy as np\n",
    "from sklearn.preprocessing import MinMaxScaler\n",
    "from Data import VFLDataset\n",
    "from torch.utils.data import DataLoader\n",
    "import VFL\n",
    "import torch\n",
    "import os\n",
    "DIR = \"Data\""
   ]
  },
  {
   "cell_type": "code",
   "execution_count": 322,
   "metadata": {},
   "outputs": [
    {
     "name": "stdout",
     "output_type": "stream",
     "text": [
      "isolet.mat (1560, 617) (1560,)\n",
      "Client 0: Feature Index 0-205\n",
      "Client 1: Feature Index 206-411\n",
      "Server : Feature Index 412-616\n"
     ]
    }
   ],
   "source": [
    "file_name = 'isolet.mat'\n",
    "mat = loadmat(os.path.join(DIR, file_name))\n",
    "X = mat[\"X\"]\n",
    "y = mat[\"Y\"]\n",
    "if issparse(X):\n",
    "    X = X.todense()\n",
    "y = y.flatten()\n",
    "print(file_name, X.shape, y.shape)\n",
    "y = y-1\n",
    "dataset = VFLDataset(data_source=(X, y), \n",
    "                    num_clients=2,\n",
    "                    gini_portion=None,\n",
    "                    insert_noise=False,\n",
    "                    test_size=0.3)\n",
    "train_loader = DataLoader(dataset.train(), batch_size=512, shuffle=False)\n",
    "val_loader = DataLoader(dataset.valid(), batch_size=1000, shuffle=False)\n",
    "test_loader = DataLoader(dataset.test(), batch_size=1000, shuffle=False)\n",
    "input_dim_list = dataset.get_input_dim_list()\n",
    "output_dim = np.unique(y).size\n",
    "criterion = torch.nn.CrossEntropyLoss()"
   ]
  },
  {
   "cell_type": "markdown",
   "metadata": {},
   "source": [
    "fnn"
   ]
  },
  {
   "cell_type": "code",
   "execution_count": 327,
   "metadata": {},
   "outputs": [],
   "source": [
    "%%capture\n",
    "models, top_model = VFL.make_binary_models(\n",
    "                            input_dim_list=input_dim_list,\n",
    "                            type='FNN',\n",
    "                            emb_dim=16,\n",
    "                            output_dim=output_dim, hidden_dims=[64, 32],\n",
    "                            activation='relu')\n",
    "fnn_history = VFL.train(models, top_model, train_loader, val_loader, test_loader,\n",
    "                epochs=100,  optimizer='Adam',verbose=True, save_mask_at=10000, \n",
    "                criterion=criterion)"
   ]
  },
  {
   "cell_type": "code",
   "execution_count": 328,
   "metadata": {},
   "outputs": [
    {
     "data": {
      "text/html": [
       "<div>\n",
       "<style scoped>\n",
       "    .dataframe tbody tr th:only-of-type {\n",
       "        vertical-align: middle;\n",
       "    }\n",
       "\n",
       "    .dataframe tbody tr th {\n",
       "        vertical-align: top;\n",
       "    }\n",
       "\n",
       "    .dataframe thead th {\n",
       "        text-align: right;\n",
       "    }\n",
       "</style>\n",
       "<table border=\"1\" class=\"dataframe\">\n",
       "  <thead>\n",
       "    <tr style=\"text-align: right;\">\n",
       "      <th></th>\n",
       "      <th>train_loss</th>\n",
       "      <th>train_acc</th>\n",
       "      <th>val_acc</th>\n",
       "      <th>test_acc</th>\n",
       "    </tr>\n",
       "  </thead>\n",
       "  <tbody>\n",
       "    <tr>\n",
       "      <th>95</th>\n",
       "      <td>0.095146</td>\n",
       "      <td>0.993590</td>\n",
       "      <td>0.993590</td>\n",
       "      <td>0.993590</td>\n",
       "    </tr>\n",
       "    <tr>\n",
       "      <th>96</th>\n",
       "      <td>0.089868</td>\n",
       "      <td>0.993590</td>\n",
       "      <td>0.993590</td>\n",
       "      <td>0.993590</td>\n",
       "    </tr>\n",
       "    <tr>\n",
       "      <th>97</th>\n",
       "      <td>0.084906</td>\n",
       "      <td>0.993590</td>\n",
       "      <td>0.993590</td>\n",
       "      <td>0.993590</td>\n",
       "    </tr>\n",
       "    <tr>\n",
       "      <th>98</th>\n",
       "      <td>0.080228</td>\n",
       "      <td>0.993590</td>\n",
       "      <td>0.995726</td>\n",
       "      <td>0.995726</td>\n",
       "    </tr>\n",
       "    <tr>\n",
       "      <th>99</th>\n",
       "      <td>0.075823</td>\n",
       "      <td>0.995726</td>\n",
       "      <td>0.995726</td>\n",
       "      <td>0.995726</td>\n",
       "    </tr>\n",
       "  </tbody>\n",
       "</table>\n",
       "</div>"
      ],
      "text/plain": [
       "    train_loss  train_acc   val_acc  test_acc\n",
       "95    0.095146   0.993590  0.993590  0.993590\n",
       "96    0.089868   0.993590  0.993590  0.993590\n",
       "97    0.084906   0.993590  0.993590  0.993590\n",
       "98    0.080228   0.993590  0.995726  0.995726\n",
       "99    0.075823   0.995726  0.995726  0.995726"
      ]
     },
     "execution_count": 328,
     "metadata": {},
     "output_type": "execute_result"
    }
   ],
   "source": [
    "fnn_history.tail(5)"
   ]
  },
  {
   "cell_type": "markdown",
   "metadata": {},
   "source": [
    "stg"
   ]
  },
  {
   "cell_type": "code",
   "execution_count": 323,
   "metadata": {},
   "outputs": [],
   "source": [
    "%%capture\n",
    "models, top_model = VFL.make_binary_models(\n",
    "                            input_dim_list=input_dim_list,\n",
    "                            type='STG',\n",
    "                            emb_dim=16,\n",
    "                            output_dim=output_dim, hidden_dims=[64, 32],\n",
    "                            activation='relu', lam=0.1)\n",
    "stg_history = VFL.train(models, top_model, train_loader, val_loader, test_loader,\n",
    "                epochs=100, optimizer='Adam',verbose=True, save_mask_at=10000, \n",
    "                criterion=criterion, freeze_btm_till=0)"
   ]
  },
  {
   "cell_type": "code",
   "execution_count": 324,
   "metadata": {},
   "outputs": [
    {
     "data": {
      "text/html": [
       "<div>\n",
       "<style scoped>\n",
       "    .dataframe tbody tr th:only-of-type {\n",
       "        vertical-align: middle;\n",
       "    }\n",
       "\n",
       "    .dataframe tbody tr th {\n",
       "        vertical-align: top;\n",
       "    }\n",
       "\n",
       "    .dataframe thead th {\n",
       "        text-align: right;\n",
       "    }\n",
       "</style>\n",
       "<table border=\"1\" class=\"dataframe\">\n",
       "  <thead>\n",
       "    <tr style=\"text-align: right;\">\n",
       "      <th></th>\n",
       "      <th>train_loss</th>\n",
       "      <th>train_acc</th>\n",
       "      <th>val_acc</th>\n",
       "      <th>test_acc</th>\n",
       "      <th>num_feats</th>\n",
       "    </tr>\n",
       "  </thead>\n",
       "  <tbody>\n",
       "    <tr>\n",
       "      <th>95</th>\n",
       "      <td>0.308490</td>\n",
       "      <td>0.905983</td>\n",
       "      <td>0.905983</td>\n",
       "      <td>0.848291</td>\n",
       "      <td>617</td>\n",
       "    </tr>\n",
       "    <tr>\n",
       "      <th>96</th>\n",
       "      <td>0.361167</td>\n",
       "      <td>0.888889</td>\n",
       "      <td>0.923077</td>\n",
       "      <td>0.867521</td>\n",
       "      <td>617</td>\n",
       "    </tr>\n",
       "    <tr>\n",
       "      <th>97</th>\n",
       "      <td>0.505015</td>\n",
       "      <td>0.829060</td>\n",
       "      <td>0.895299</td>\n",
       "      <td>0.927350</td>\n",
       "      <td>617</td>\n",
       "    </tr>\n",
       "    <tr>\n",
       "      <th>98</th>\n",
       "      <td>0.401509</td>\n",
       "      <td>0.886752</td>\n",
       "      <td>0.856838</td>\n",
       "      <td>0.871795</td>\n",
       "      <td>617</td>\n",
       "    </tr>\n",
       "    <tr>\n",
       "      <th>99</th>\n",
       "      <td>0.456985</td>\n",
       "      <td>0.854701</td>\n",
       "      <td>0.905983</td>\n",
       "      <td>0.893162</td>\n",
       "      <td>617</td>\n",
       "    </tr>\n",
       "  </tbody>\n",
       "</table>\n",
       "</div>"
      ],
      "text/plain": [
       "    train_loss  train_acc   val_acc  test_acc  num_feats\n",
       "95    0.308490   0.905983  0.905983  0.848291        617\n",
       "96    0.361167   0.888889  0.923077  0.867521        617\n",
       "97    0.505015   0.829060  0.895299  0.927350        617\n",
       "98    0.401509   0.886752  0.856838  0.871795        617\n",
       "99    0.456985   0.854701  0.905983  0.893162        617"
      ]
     },
     "execution_count": 324,
     "metadata": {},
     "output_type": "execute_result"
    }
   ],
   "source": [
    "stg_history.tail(5)"
   ]
  },
  {
   "cell_type": "markdown",
   "metadata": {},
   "source": [
    "STG with GINI Initialization"
   ]
  },
  {
   "cell_type": "code",
   "execution_count": 348,
   "metadata": {},
   "outputs": [],
   "source": [
    "%%capture\n",
    "gini_labels = dataset.gini_filter(0.5)\n",
    "feat_idx_list = dataset.get_feature_index_list()\n",
    "mus = VFL.initialize_mu(gini_labels, feat_idx_list)\n",
    "models, top_model = VFL.make_binary_models(\n",
    "                            input_dim_list=input_dim_list,\n",
    "                            type='STG',\n",
    "                            emb_dim=16,\n",
    "                            output_dim=output_dim, hidden_dims=[64, 32],\n",
    "                            activation='relu', lam=0.1, mus=mus)\n",
    "stg_gini_history = VFL.train(models, top_model, train_loader, val_loader, test_loader,\n",
    "                epochs=100,  optimizer='Adam',verbose=True, save_mask_at=10000, \n",
    "                criterion=criterion)"
   ]
  },
  {
   "cell_type": "code",
   "execution_count": 349,
   "metadata": {},
   "outputs": [
    {
     "data": {
      "text/html": [
       "<div>\n",
       "<style scoped>\n",
       "    .dataframe tbody tr th:only-of-type {\n",
       "        vertical-align: middle;\n",
       "    }\n",
       "\n",
       "    .dataframe tbody tr th {\n",
       "        vertical-align: top;\n",
       "    }\n",
       "\n",
       "    .dataframe thead th {\n",
       "        text-align: right;\n",
       "    }\n",
       "</style>\n",
       "<table border=\"1\" class=\"dataframe\">\n",
       "  <thead>\n",
       "    <tr style=\"text-align: right;\">\n",
       "      <th></th>\n",
       "      <th>train_loss</th>\n",
       "      <th>train_acc</th>\n",
       "      <th>val_acc</th>\n",
       "      <th>test_acc</th>\n",
       "      <th>num_feats</th>\n",
       "    </tr>\n",
       "  </thead>\n",
       "  <tbody>\n",
       "    <tr>\n",
       "      <th>95</th>\n",
       "      <td>0.290459</td>\n",
       "      <td>0.914530</td>\n",
       "      <td>0.897436</td>\n",
       "      <td>0.835470</td>\n",
       "      <td>529</td>\n",
       "    </tr>\n",
       "    <tr>\n",
       "      <th>96</th>\n",
       "      <td>0.366227</td>\n",
       "      <td>0.876068</td>\n",
       "      <td>0.878205</td>\n",
       "      <td>0.882479</td>\n",
       "      <td>530</td>\n",
       "    </tr>\n",
       "    <tr>\n",
       "      <th>97</th>\n",
       "      <td>0.239084</td>\n",
       "      <td>0.927350</td>\n",
       "      <td>0.927350</td>\n",
       "      <td>0.931624</td>\n",
       "      <td>531</td>\n",
       "    </tr>\n",
       "    <tr>\n",
       "      <th>98</th>\n",
       "      <td>0.268014</td>\n",
       "      <td>0.923077</td>\n",
       "      <td>0.916667</td>\n",
       "      <td>0.931624</td>\n",
       "      <td>531</td>\n",
       "    </tr>\n",
       "    <tr>\n",
       "      <th>99</th>\n",
       "      <td>0.257775</td>\n",
       "      <td>0.929487</td>\n",
       "      <td>0.848291</td>\n",
       "      <td>0.929487</td>\n",
       "      <td>532</td>\n",
       "    </tr>\n",
       "  </tbody>\n",
       "</table>\n",
       "</div>"
      ],
      "text/plain": [
       "    train_loss  train_acc   val_acc  test_acc  num_feats\n",
       "95    0.290459   0.914530  0.897436  0.835470        529\n",
       "96    0.366227   0.876068  0.878205  0.882479        530\n",
       "97    0.239084   0.927350  0.927350  0.931624        531\n",
       "98    0.268014   0.923077  0.916667  0.931624        531\n",
       "99    0.257775   0.929487  0.848291  0.929487        532"
      ]
     },
     "execution_count": 349,
     "metadata": {},
     "output_type": "execute_result"
    }
   ],
   "source": [
    "stg_gini_history.tail(5)"
   ]
  },
  {
   "cell_type": "markdown",
   "metadata": {},
   "source": [
    "Dual STG with GINI Initialization"
   ]
  },
  {
   "cell_type": "code",
   "execution_count": 295,
   "metadata": {},
   "outputs": [],
   "source": [
    "%%capture\n",
    "mus = VFL.initialize_mu(gini_labels, feat_idx_list)\n",
    "models, top_model = VFL.make_binary_models(\n",
    "    input_dim_list=input_dim_list,\n",
    "    type=\"DualSTG\",\n",
    "    emb_dim=16,\n",
    "    output_dim=output_dim,\n",
    "    hidden_dims=[64, 32],\n",
    "    activation=\"relu\",\n",
    "    mus=mus, top_lam=0.1, lam=0.1)\n",
    "dual_stg_gini_history = VFL.train(\n",
    "    models,\n",
    "    top_model,\n",
    "    train_loader,\n",
    "    val_loader,\n",
    "    test_loader,\n",
    "    epochs=100,\n",
    "    optimizer='Adam',\n",
    "    criterion=criterion,\n",
    "    verbose=True,\n",
    "    save_mask_at=100000)"
   ]
  },
  {
   "cell_type": "code",
   "execution_count": 296,
   "metadata": {},
   "outputs": [
    {
     "data": {
      "text/html": [
       "<div>\n",
       "<style scoped>\n",
       "    .dataframe tbody tr th:only-of-type {\n",
       "        vertical-align: middle;\n",
       "    }\n",
       "\n",
       "    .dataframe tbody tr th {\n",
       "        vertical-align: top;\n",
       "    }\n",
       "\n",
       "    .dataframe thead th {\n",
       "        text-align: right;\n",
       "    }\n",
       "</style>\n",
       "<table border=\"1\" class=\"dataframe\">\n",
       "  <thead>\n",
       "    <tr style=\"text-align: right;\">\n",
       "      <th></th>\n",
       "      <th>train_loss</th>\n",
       "      <th>train_acc</th>\n",
       "      <th>val_acc</th>\n",
       "      <th>test_acc</th>\n",
       "      <th>num_feats</th>\n",
       "      <th>num_emb</th>\n",
       "    </tr>\n",
       "  </thead>\n",
       "  <tbody>\n",
       "    <tr>\n",
       "      <th>95</th>\n",
       "      <td>0.984781</td>\n",
       "      <td>0.651709</td>\n",
       "      <td>0.641026</td>\n",
       "      <td>0.722222</td>\n",
       "      <td>482</td>\n",
       "      <td>48</td>\n",
       "    </tr>\n",
       "    <tr>\n",
       "      <th>96</th>\n",
       "      <td>0.896572</td>\n",
       "      <td>0.694444</td>\n",
       "      <td>0.683761</td>\n",
       "      <td>0.720085</td>\n",
       "      <td>482</td>\n",
       "      <td>48</td>\n",
       "    </tr>\n",
       "    <tr>\n",
       "      <th>97</th>\n",
       "      <td>0.757438</td>\n",
       "      <td>0.737179</td>\n",
       "      <td>0.619658</td>\n",
       "      <td>0.754274</td>\n",
       "      <td>483</td>\n",
       "      <td>48</td>\n",
       "    </tr>\n",
       "    <tr>\n",
       "      <th>98</th>\n",
       "      <td>0.794914</td>\n",
       "      <td>0.760684</td>\n",
       "      <td>0.726496</td>\n",
       "      <td>0.769231</td>\n",
       "      <td>480</td>\n",
       "      <td>48</td>\n",
       "    </tr>\n",
       "    <tr>\n",
       "      <th>99</th>\n",
       "      <td>0.928594</td>\n",
       "      <td>0.685897</td>\n",
       "      <td>0.784188</td>\n",
       "      <td>0.754274</td>\n",
       "      <td>481</td>\n",
       "      <td>48</td>\n",
       "    </tr>\n",
       "  </tbody>\n",
       "</table>\n",
       "</div>"
      ],
      "text/plain": [
       "    train_loss  train_acc   val_acc  test_acc  num_feats  num_emb\n",
       "95    0.984781   0.651709  0.641026  0.722222        482       48\n",
       "96    0.896572   0.694444  0.683761  0.720085        482       48\n",
       "97    0.757438   0.737179  0.619658  0.754274        483       48\n",
       "98    0.794914   0.760684  0.726496  0.769231        480       48\n",
       "99    0.928594   0.685897  0.784188  0.754274        481       48"
      ]
     },
     "execution_count": 296,
     "metadata": {},
     "output_type": "execute_result"
    }
   ],
   "source": [
    "dual_stg_gini_history.tail(5)"
   ]
  },
  {
   "cell_type": "markdown",
   "metadata": {},
   "source": [
    "dual stg with longer training"
   ]
  },
  {
   "cell_type": "code",
   "execution_count": 350,
   "metadata": {},
   "outputs": [],
   "source": [
    "%%capture\n",
    "mus = VFL.initialize_mu(gini_labels, feat_idx_list)\n",
    "models, top_model = VFL.make_binary_models(\n",
    "    input_dim_list=input_dim_list,\n",
    "    type=\"DualSTG\",\n",
    "    emb_dim=16,\n",
    "    output_dim=output_dim,\n",
    "    hidden_dims=[64, 32],\n",
    "    activation=\"relu\",\n",
    "    mus=mus, top_lam=0.1, lam=0.1)\n",
    "longer_dual_stg_gini_history = VFL.train(\n",
    "    models,\n",
    "    top_model,\n",
    "    train_loader,\n",
    "    val_loader,\n",
    "    test_loader,\n",
    "    epochs=300,\n",
    "    optimizer='Adam',\n",
    "    criterion=criterion,\n",
    "    verbose=True,\n",
    "    save_mask_at=100000, freeze_top_till=0)"
   ]
  },
  {
   "cell_type": "code",
   "execution_count": 351,
   "metadata": {},
   "outputs": [
    {
     "data": {
      "text/html": [
       "<div>\n",
       "<style scoped>\n",
       "    .dataframe tbody tr th:only-of-type {\n",
       "        vertical-align: middle;\n",
       "    }\n",
       "\n",
       "    .dataframe tbody tr th {\n",
       "        vertical-align: top;\n",
       "    }\n",
       "\n",
       "    .dataframe thead th {\n",
       "        text-align: right;\n",
       "    }\n",
       "</style>\n",
       "<table border=\"1\" class=\"dataframe\">\n",
       "  <thead>\n",
       "    <tr style=\"text-align: right;\">\n",
       "      <th></th>\n",
       "      <th>train_loss</th>\n",
       "      <th>train_acc</th>\n",
       "      <th>val_acc</th>\n",
       "      <th>test_acc</th>\n",
       "      <th>num_feats</th>\n",
       "      <th>num_emb</th>\n",
       "    </tr>\n",
       "  </thead>\n",
       "  <tbody>\n",
       "    <tr>\n",
       "      <th>295</th>\n",
       "      <td>0.256805</td>\n",
       "      <td>0.963675</td>\n",
       "      <td>0.916667</td>\n",
       "      <td>0.931624</td>\n",
       "      <td>491</td>\n",
       "      <td>48</td>\n",
       "    </tr>\n",
       "    <tr>\n",
       "      <th>296</th>\n",
       "      <td>0.291730</td>\n",
       "      <td>0.942308</td>\n",
       "      <td>0.925214</td>\n",
       "      <td>0.878205</td>\n",
       "      <td>492</td>\n",
       "      <td>48</td>\n",
       "    </tr>\n",
       "    <tr>\n",
       "      <th>297</th>\n",
       "      <td>0.307084</td>\n",
       "      <td>0.940171</td>\n",
       "      <td>0.914530</td>\n",
       "      <td>0.920940</td>\n",
       "      <td>492</td>\n",
       "      <td>48</td>\n",
       "    </tr>\n",
       "    <tr>\n",
       "      <th>298</th>\n",
       "      <td>0.425683</td>\n",
       "      <td>0.897436</td>\n",
       "      <td>0.957265</td>\n",
       "      <td>0.903846</td>\n",
       "      <td>492</td>\n",
       "      <td>48</td>\n",
       "    </tr>\n",
       "    <tr>\n",
       "      <th>299</th>\n",
       "      <td>0.383909</td>\n",
       "      <td>0.916667</td>\n",
       "      <td>0.965812</td>\n",
       "      <td>0.965812</td>\n",
       "      <td>492</td>\n",
       "      <td>48</td>\n",
       "    </tr>\n",
       "  </tbody>\n",
       "</table>\n",
       "</div>"
      ],
      "text/plain": [
       "     train_loss  train_acc   val_acc  test_acc  num_feats  num_emb\n",
       "295    0.256805   0.963675  0.916667  0.931624        491       48\n",
       "296    0.291730   0.942308  0.925214  0.878205        492       48\n",
       "297    0.307084   0.940171  0.914530  0.920940        492       48\n",
       "298    0.425683   0.897436  0.957265  0.903846        492       48\n",
       "299    0.383909   0.916667  0.965812  0.965812        492       48"
      ]
     },
     "execution_count": 351,
     "metadata": {},
     "output_type": "execute_result"
    }
   ],
   "source": [
    "longer_dual_stg_gini_history.tail(5)"
   ]
  },
  {
   "cell_type": "markdown",
   "metadata": {},
   "source": [
    "SFFS Filtered (0.5)"
   ]
  },
  {
   "cell_type": "code",
   "execution_count": 303,
   "metadata": {},
   "outputs": [
    {
     "name": "stdout",
     "output_type": "stream",
     "text": [
      "total computation time for pinv is: 0.055849552154541016\n"
     ]
    }
   ],
   "source": [
    "from SFFS import get_f_stat_index\n",
    "index = get_f_stat_index(X, y)"
   ]
  },
  {
   "cell_type": "code",
   "execution_count": 304,
   "metadata": {},
   "outputs": [
    {
     "name": "stdout",
     "output_type": "stream",
     "text": [
      "(1560, 308)\n"
     ]
    }
   ],
   "source": [
    "X_filtered = X[:, index[:int(0.5*len(index))]]\n",
    "print(X_filtered.shape)"
   ]
  },
  {
   "cell_type": "code",
   "execution_count": 305,
   "metadata": {},
   "outputs": [
    {
     "name": "stdout",
     "output_type": "stream",
     "text": [
      "Client 0: Feature Index 0-102\n",
      "Client 1: Feature Index 103-205\n",
      "Server : Feature Index 206-307\n"
     ]
    }
   ],
   "source": [
    "dataset = VFLDataset(data_source=(X_filtered, y), \n",
    "                    num_clients=2,\n",
    "                    gini_portion=None,\n",
    "                    insert_noise=False,\n",
    "                    test_size=0.3)\n",
    "train_loader = DataLoader(dataset.train(), batch_size=512, shuffle=True)\n",
    "val_loader = DataLoader(dataset.valid(), batch_size=1000, shuffle=True)\n",
    "test_loader = DataLoader(dataset.test(), batch_size=1000, shuffle=True)\n",
    "input_dim_list = dataset.get_input_dim_list()\n",
    "output_dim = np.unique(y).size\n",
    "criterion = torch.nn.CrossEntropyLoss()"
   ]
  },
  {
   "cell_type": "code",
   "execution_count": 306,
   "metadata": {},
   "outputs": [],
   "source": [
    "%%capture\n",
    "models, top_model = VFL.make_binary_models(\n",
    "                            input_dim_list=input_dim_list,\n",
    "                            type='FNN',\n",
    "                            emb_dim=16,\n",
    "                            output_dim=output_dim, hidden_dims=[64, 32],\n",
    "                            activation='relu')\n",
    "sffs_fnn_history = VFL.train(models, top_model, train_loader, val_loader, test_loader,\n",
    "                epochs=100,  optimizer='Adam',verbose=True, save_mask_at=10000, \n",
    "                criterion=criterion)"
   ]
  },
  {
   "cell_type": "code",
   "execution_count": 307,
   "metadata": {},
   "outputs": [
    {
     "data": {
      "text/html": [
       "<div>\n",
       "<style scoped>\n",
       "    .dataframe tbody tr th:only-of-type {\n",
       "        vertical-align: middle;\n",
       "    }\n",
       "\n",
       "    .dataframe tbody tr th {\n",
       "        vertical-align: top;\n",
       "    }\n",
       "\n",
       "    .dataframe thead th {\n",
       "        text-align: right;\n",
       "    }\n",
       "</style>\n",
       "<table border=\"1\" class=\"dataframe\">\n",
       "  <thead>\n",
       "    <tr style=\"text-align: right;\">\n",
       "      <th></th>\n",
       "      <th>train_loss</th>\n",
       "      <th>train_acc</th>\n",
       "      <th>val_acc</th>\n",
       "      <th>test_acc</th>\n",
       "    </tr>\n",
       "  </thead>\n",
       "  <tbody>\n",
       "    <tr>\n",
       "      <th>95</th>\n",
       "      <td>0.340682</td>\n",
       "      <td>0.918803</td>\n",
       "      <td>0.923077</td>\n",
       "      <td>0.923077</td>\n",
       "    </tr>\n",
       "    <tr>\n",
       "      <th>96</th>\n",
       "      <td>0.328053</td>\n",
       "      <td>0.923077</td>\n",
       "      <td>0.927350</td>\n",
       "      <td>0.927350</td>\n",
       "    </tr>\n",
       "    <tr>\n",
       "      <th>97</th>\n",
       "      <td>0.315901</td>\n",
       "      <td>0.927350</td>\n",
       "      <td>0.929487</td>\n",
       "      <td>0.929487</td>\n",
       "    </tr>\n",
       "    <tr>\n",
       "      <th>98</th>\n",
       "      <td>0.304248</td>\n",
       "      <td>0.929487</td>\n",
       "      <td>0.931624</td>\n",
       "      <td>0.931624</td>\n",
       "    </tr>\n",
       "    <tr>\n",
       "      <th>99</th>\n",
       "      <td>0.293004</td>\n",
       "      <td>0.931624</td>\n",
       "      <td>0.933761</td>\n",
       "      <td>0.933761</td>\n",
       "    </tr>\n",
       "  </tbody>\n",
       "</table>\n",
       "</div>"
      ],
      "text/plain": [
       "    train_loss  train_acc   val_acc  test_acc\n",
       "95    0.340682   0.918803  0.923077  0.923077\n",
       "96    0.328053   0.923077  0.927350  0.927350\n",
       "97    0.315901   0.927350  0.929487  0.929487\n",
       "98    0.304248   0.929487  0.931624  0.931624\n",
       "99    0.293004   0.931624  0.933761  0.933761"
      ]
     },
     "execution_count": 307,
     "metadata": {},
     "output_type": "execute_result"
    }
   ],
   "source": [
    "sffs_fnn_history.tail(5)"
   ]
  },
  {
   "cell_type": "markdown",
   "metadata": {},
   "source": [
    "---\n",
    "# Summary\n",
    "\n",
    "| Model                 | # Features | Test Acc | Ratio Embedding |\n",
    "|-----------------------|------------|----------|-----------------|\n",
    "| FNN                   | 617        | 0.9807   | 1               |\n",
    "| STG                   | 617        | 0.9316   | 1               |\n",
    "| STG+GINI              | 509        | 0.9465   | 1               |\n",
    "| DualSTG+GINI          | 481        | 0.7542   | 1               |\n",
    "| DualSTG+GINI (double) | 467        | 0.9658   | 1               |\n",
    "| SFFS->FNN             | 308        | 0.933761 | 1               |"
   ]
  },
  {
   "cell_type": "code",
   "execution_count": 353,
   "metadata": {},
   "outputs": [],
   "source": [
    "import dill\n",
    "dill.dump_session('IsoletDataExperiments.db')"
   ]
  }
 ],
 "metadata": {
  "interpreter": {
   "hash": "1579d4a348c2ef16482c05d3cfac916f73c8945ddf1938a1e045b3bdea82eece"
  },
  "kernelspec": {
   "display_name": "Python 3.9.7 ('VFL')",
   "language": "python",
   "name": "python3"
  },
  "language_info": {
   "codemirror_mode": {
    "name": "ipython",
    "version": 3
   },
   "file_extension": ".py",
   "mimetype": "text/x-python",
   "name": "python",
   "nbconvert_exporter": "python",
   "pygments_lexer": "ipython3",
   "version": "3.9.7"
  },
  "orig_nbformat": 4
 },
 "nbformat": 4,
 "nbformat_minor": 2
}
