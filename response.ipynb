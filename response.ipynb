{
 "cells": [
  {
   "cell_type": "markdown",
   "metadata": {},
   "source": [
    "Reviewer 1\n",
    "\n",
    "100 coil\n",
    "\n",
    "80 arcene basehock gisette\n",
    "\n",
    "60 pcmac relathe\n",
    "\n",
    "300 isolet"
   ]
  },
  {
   "cell_type": "code",
   "execution_count": null,
   "metadata": {},
   "outputs": [],
   "source": [
    "import numpy as np\n",
    "import pandas as pd\n",
    "\n",
    "datasets = ['arcene', 'basehock', 'coil', 'gisette', 'isolet', 'pcmac', 'relathe']\n",
    "# datasets = ['coil', 'gisette', 'isolet', 'pcmac', 'relathe']\n",
    "total_epoch = 80\n",
    "\n",
    "_acc = np.zeros(5)\n",
    "\n",
    "for dataset in datasets:\n",
    "\n",
    "    for seed in range(5):\n",
    "\n",
    "        result = pd.read_csv('Response/Review1/Half_initialized/{}_{}.csv'.format(dataset, seed))\n",
    "\n",
    "        test_acc = result['test_acc'].to_numpy()\n",
    "\n",
    "        _acc[seed] = (np.mean(test_acc[total_epoch-5:total_epoch]))\n",
    "\n",
    "    print('This is {} dataset'.format(dataset))\n",
    "\n",
    "    print(_acc.tolist())\n",
    "\n",
    "    print(np.mean(_acc))\n",
    "    print(np.sqrt(np.var(_acc)))\n",
    "    print('*' * 50)"
   ]
  },
  {
   "cell_type": "markdown",
   "metadata": {},
   "source": [
    "Test_Acc with different ratios of GINI initialized clients"
   ]
  },
  {
   "cell_type": "code",
   "execution_count": null,
   "metadata": {},
   "outputs": [],
   "source": [
    "import pandas as pd\n",
    "\n",
    "dataset = 'isolet'\n",
    "\n",
    "def get_test_acc(dataset, proportion):\n",
    "    for seed in range(5):\n",
    "\n",
    "        if proportion == 'half':\n",
    "            result = pd.read_csv('Response/Review1/Half_initialized/{}_{}.csv'.format(dataset, seed))\n",
    "        elif proportion == 'all':\n",
    "            result = pd.read_csv('Response/Review1/All_initialized/{}_{}.csv'.format(dataset, seed))\n",
    "        else:\n",
    "            result = pd.read_csv('Response/Review1/Partially_initialized/{}_{}_{}.csv'.format(dataset, int(100 * proportion), seed))\n",
    "\n",
    "        if seed == 0:\n",
    "            train_acc = result['train_acc'].to_numpy()\n",
    "            test_acc = result['test_acc'].to_numpy()\n",
    "        else:\n",
    "            train_acc += result['train_acc'].to_numpy()\n",
    "            test_acc += result['test_acc'].to_numpy() \n",
    "\n",
    "    train_acc /= 5\n",
    "    test_acc /= 5\n",
    "\n",
    "    return train_acc, test_acc\n",
    "\n"
   ]
  },
  {
   "cell_type": "code",
   "execution_count": null,
   "metadata": {},
   "outputs": [],
   "source": [
    "_, test_acc_10 = get_test_acc(dataset=dataset, proportion=0.9)\n",
    "_, test_acc_30 = get_test_acc(dataset=dataset, proportion=0.7)\n",
    "_, test_acc_70 = get_test_acc(dataset=dataset, proportion=0.3)\n",
    "_, test_acc_90 = get_test_acc(dataset=dataset, proportion=0.1)\n",
    "_, test_acc_50 = get_test_acc(dataset=dataset, proportion='half')\n",
    "_, test_acc_100 = get_test_acc(dataset=dataset, proportion='all')\n",
    "\n"
   ]
  },
  {
   "cell_type": "code",
   "execution_count": null,
   "metadata": {},
   "outputs": [],
   "source": [
    "import numpy as np\n",
    "from matplotlib import pyplot as plt\n",
    "\n",
    "total_epoch = 300\n",
    "end = total_epoch - 10 + 1\n",
    "\n",
    "def moving_average(x):\n",
    "    w = 10\n",
    "    x = np.array(x).flatten()\n",
    "    return np.convolve(x, np.ones(w), 'valid') / w\n",
    "\n",
    "\n",
    "def plot_moving_acc(test_acc_10, test_acc_30, test_acc_50, test_acc_70, test_acc_90, test_acc_100):\n",
    "    x = np.arange(total_epoch)\n",
    "    plt.figure(1)\n",
    "    plt.plot(x[:end], moving_average(test_acc_10), label='0.1')\n",
    "    plt.plot(x[:end], moving_average(test_acc_30), label='0.3')\n",
    "    plt.plot(x[:end], moving_average(test_acc_50), label='0.5')\n",
    "    plt.plot(x[:end], moving_average(test_acc_70), label='0.7')\n",
    "    plt.plot(x[:end], moving_average(test_acc_90), label='0.9')\n",
    "    plt.plot(x[:end], moving_average(test_acc_100), label='1.0')\n",
    "\n",
    "    plt.xlabel('epoch')\n",
    "    plt.ylabel('Test Acc')\n",
    "    plt.title('Test Acc of isolet dataset with different ratios')\n",
    "    plt.legend()\n",
    "    plt.show()\n",
    "\n",
    "    plt.close()\n",
    "\n",
    "\n",
    "def plot_acc(test_acc_10, test_acc_30, test_acc_50, test_acc_70, test_acc_90, test_acc_100):\n",
    "    x = np.arange(total_epoch)\n",
    "    plt.figure(1)\n",
    "    plt.plot(x, (test_acc_10), label='0.1')\n",
    "    plt.plot(x, (test_acc_30), label='0.3')\n",
    "    plt.plot(x, (test_acc_50), label='0.5')\n",
    "    plt.plot(x, (test_acc_70), label='0.7')\n",
    "    plt.plot(x, (test_acc_90), label='0.9')\n",
    "    plt.plot(x, (test_acc_100), label='1.0')\n",
    "\n",
    "    plt.xlabel('epoch')\n",
    "    plt.ylabel('Test Acc')\n",
    "    plt.title('Test Acc of isolet dataset with different ratios')\n",
    "    plt.legend()\n",
    "    plt.show()\n",
    "\n",
    "    plt.close()\n"
   ]
  },
  {
   "cell_type": "code",
   "execution_count": null,
   "metadata": {},
   "outputs": [],
   "source": [
    "plot_moving_acc(test_acc_10, test_acc_30, test_acc_50, test_acc_70, test_acc_90, test_acc_100)\n",
    "plot_acc(test_acc_10, test_acc_30, test_acc_50, test_acc_70, test_acc_90, test_acc_100)"
   ]
  },
  {
   "cell_type": "markdown",
   "metadata": {},
   "source": [
    "Num_feat with different ratios of GINI initialized clients"
   ]
  },
  {
   "cell_type": "code",
   "execution_count": null,
   "metadata": {},
   "outputs": [],
   "source": [
    "import pandas as pd\n",
    "\n",
    "dataset = 'basehock'\n",
    "\n",
    "def get_num_feats(dataset, proportion):\n",
    "    for seed in range(5):\n",
    "\n",
    "        if proportion == 'half':\n",
    "            result = pd.read_csv('Response/Review1/Half_initialized/{}_{}.csv'.format(dataset, seed))\n",
    "        elif proportion == 'all':\n",
    "            result = pd.read_csv('Response/Review1/All_initialized/{}_{}.csv'.format(dataset, seed))\n",
    "        else:\n",
    "            result = pd.read_csv('Response/Review1/Partially_initialized/{}_{}_{}.csv'.format(dataset, int(100 * proportion), seed))\n",
    "\n",
    "        if seed == 0:\n",
    "            num_feats = result['num_feats'].to_numpy()\n",
    "            num_emb = result['num_emb'].to_numpy()\n",
    "        else:\n",
    "            num_feats += result['num_feats'].to_numpy()\n",
    "            num_emb += result['num_emb'].to_numpy() \n",
    "\n",
    "    num_feats = num_feats / 5.0\n",
    "    num_emb = num_emb / 5.0\n",
    "\n",
    "    return num_feats, num_emb\n",
    "\n"
   ]
  },
  {
   "cell_type": "code",
   "execution_count": null,
   "metadata": {},
   "outputs": [],
   "source": [
    "num_feats_10, _ = get_num_feats(dataset=dataset, proportion=0.9)\n",
    "num_feats_30, _ = get_num_feats(dataset=dataset, proportion=0.7)\n",
    "num_feats_70, _ = get_num_feats(dataset=dataset, proportion=0.3)\n",
    "num_feats_90, _ = get_num_feats(dataset=dataset, proportion=0.1)\n",
    "num_feats_50, _ = get_num_feats(dataset=dataset, proportion='half')\n",
    "num_feats_100, _ = get_num_feats(dataset=dataset, proportion='all')\n",
    "\n"
   ]
  },
  {
   "cell_type": "code",
   "execution_count": null,
   "metadata": {},
   "outputs": [],
   "source": [
    "import numpy as np\n",
    "from matplotlib import pyplot as plt\n",
    "\n",
    "total_epoch = 80\n",
    "\n",
    "def plot_acc(num_feats_10, num_feats_30, num_feats_50, num_feats_70, num_feats_90, num_feats_100):\n",
    "    x = np.arange(total_epoch)\n",
    "    plt.figure(1)\n",
    "    plt.plot(x, (num_feats_10), label='0.1')\n",
    "    plt.plot(x, (num_feats_30), label='0.3')\n",
    "    plt.plot(x, (num_feats_50), label='0.5')\n",
    "    plt.plot(x, (num_feats_70), label='0.7')\n",
    "    plt.plot(x, (num_feats_90), label='0.9')\n",
    "    plt.plot(x, (num_feats_100), label='1.0')\n",
    "\n",
    "    plt.xlabel('epoch')\n",
    "    plt.ylabel('Number of Selected Features')\n",
    "    plt.title('Number of Selected Features of basehock dataset with different ratios')\n",
    "    plt.legend()\n",
    "    plt.show()\n",
    "\n",
    "    plt.close()\n"
   ]
  },
  {
   "cell_type": "code",
   "execution_count": null,
   "metadata": {},
   "outputs": [],
   "source": [
    "plot_acc(num_feats_10, num_feats_30, num_feats_50, num_feats_70, num_feats_90, num_feats_100)"
   ]
  },
  {
   "cell_type": "markdown",
   "metadata": {},
   "source": [
    "Communication Cost w/o Paillier"
   ]
  },
  {
   "cell_type": "code",
   "execution_count": null,
   "metadata": {},
   "outputs": [],
   "source": [
    "import pickle\n",
    "\n",
    "import torch\n",
    "\n",
    "non_zero_embedding = torch.randn(11200)\n",
    "\n",
    "plain_output = open('11200.pickle','wb')\n",
    "pickle.dump(non_zero_embedding, plain_output)\n",
    "plain_output.close()\n"
   ]
  },
  {
   "cell_type": "markdown",
   "metadata": {},
   "source": [
    "Lasso"
   ]
  },
  {
   "cell_type": "code",
   "execution_count": 64,
   "metadata": {},
   "outputs": [
    {
     "name": "stdout",
     "output_type": "stream",
     "text": [
      "[0.9675213675213674, 0.9722222222222221, 0.9722222222222221, 0.9722222222222221, 0.9722222222222221]\n",
      "0.9712820512820513\n",
      "0.0018803418803418736\n"
     ]
    }
   ],
   "source": [
    "import numpy as np\n",
    "import pandas as pd\n",
    "\n",
    "dataset = 'isolet'\n",
    "total_epoch = 300\n",
    "\n",
    "_acc = np.zeros(5)\n",
    "\n",
    "\n",
    "for seed in range(5):\n",
    "\n",
    "    result = pd.read_csv('Response/Review1/Lasso/{}_{}.csv'.format(dataset, seed))\n",
    "\n",
    "    test_acc = result['test_acc'].to_numpy()\n",
    "\n",
    "    _acc[seed] = (np.mean(test_acc[total_epoch-5:total_epoch]))\n",
    "\n",
    "\n",
    "print(_acc.tolist())\n",
    "\n",
    "print(np.mean(_acc))\n",
    "print(np.sqrt(np.var(_acc)))"
   ]
  },
  {
   "cell_type": "markdown",
   "metadata": {},
   "source": [
    "Reviewer 2"
   ]
  },
  {
   "cell_type": "code",
   "execution_count": null,
   "metadata": {},
   "outputs": [],
   "source": [
    "import numpy as np\n",
    "import pandas as pd\n",
    "\n",
    "dataset = 'basehock'\n",
    "total_epoch = 80\n",
    "\n",
    "_acc = np.zeros(5)\n",
    "\n",
    "for seed in range(5):\n",
    "\n",
    "    result = pd.read_csv('Response/Review2/{}_100clients_{}.csv'.format(dataset, seed))\n",
    "\n",
    "    test_acc = result['test_acc'].to_numpy()\n",
    "\n",
    "    _acc[seed] = (np.mean(test_acc[total_epoch-5:total_epoch]))\n",
    "\n",
    "print(_acc.tolist())\n",
    "\n",
    "print(np.mean(_acc))\n",
    "print(np.sqrt(np.var(_acc)))"
   ]
  },
  {
   "cell_type": "markdown",
   "metadata": {},
   "source": [
    "Reviewer 3"
   ]
  },
  {
   "cell_type": "code",
   "execution_count": null,
   "metadata": {},
   "outputs": [],
   "source": [
    "from matplotlib import pyplot as plt\n",
    "from sklearn.metrics import roc_curve\n",
    "\n",
    "def _plot_roc(label, y_prob, file_dir):\n",
    "    fpr, tpr, thresholds_roc = roc_curve(label, y_prob)\n",
    "\n",
    "    fig = plt.figure()\n",
    "    ax = fig.add_subplot(1, 1, 1)\n",
    "    ax.plot(fpr, tpr, ls=\"-\", linewidth=2.0)\n",
    "    ax.grid(True, linestyle=\"-.\")\n",
    "    ax.set_xlabel(\"false positive rate\", labelpad=5, loc=\"center\")\n",
    "    ax.set_ylabel(\"true positive rate\", labelpad=5, loc=\"center\")\n",
    "    ax.set_title(\"ROC Curve\")\n",
    "\n",
    "    plt.show()\n",
    "    # plt.savefig(f\"{file_dir}/ROC_Curve.png\")\n",
    "    plt.close()"
   ]
  },
  {
   "cell_type": "code",
   "execution_count": null,
   "metadata": {},
   "outputs": [],
   "source": [
    "import pandas as pd\n",
    "\n",
    "result = pd.read_csv('Response/Review3/pcmac.csv')\n",
    "\n",
    "labels = result['labels'].to_numpy()\n",
    "preds = result['preds'].to_numpy()\n",
    "\n",
    "_plot_roc(labels, preds, 'Response/Review3/')"
   ]
  }
 ],
 "metadata": {
  "interpreter": {
   "hash": "1579d4a348c2ef16482c05d3cfac916f73c8945ddf1938a1e045b3bdea82eece"
  },
  "kernelspec": {
   "display_name": "Python 3.9.7 ('VFL')",
   "language": "python",
   "name": "python3"
  },
  "language_info": {
   "codemirror_mode": {
    "name": "ipython",
    "version": 3
   },
   "file_extension": ".py",
   "mimetype": "text/x-python",
   "name": "python",
   "nbconvert_exporter": "python",
   "pygments_lexer": "ipython3",
   "version": "3.11.3"
  },
  "orig_nbformat": 4
 },
 "nbformat": 4,
 "nbformat_minor": 2
}
