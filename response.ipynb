{
 "cells": [
  {
   "cell_type": "markdown",
   "metadata": {},
   "source": [
    "Reviewer 1\n",
    "\n",
    "100 coil\n",
    "\n",
    "80 arcene basehock gisette\n",
    "\n",
    "60 pcmac relathe\n",
    "\n",
    "300 isolet"
   ]
  },
  {
   "cell_type": "code",
   "execution_count": null,
   "metadata": {},
   "outputs": [],
   "source": [
    "import numpy as np\n",
    "import pandas as pd\n",
    "\n",
    "datasets = ['arcene', 'basehock', 'coil', 'gisette', 'isolet', 'pcmac', 'relathe']\n",
    "# datasets = ['coil', 'gisette', 'isolet', 'pcmac', 'relathe']\n",
    "total_epoch = 80\n",
    "\n",
    "_acc = np.zeros(5)\n",
    "\n",
    "for dataset in datasets:\n",
    "\n",
    "    for seed in range(5):\n",
    "\n",
    "        result = pd.read_csv('Response/Review1/Half_initialized/{}_{}.csv'.format(dataset, seed))\n",
    "\n",
    "        test_acc = result['test_acc'].to_numpy()\n",
    "\n",
    "        _acc[seed] = (np.mean(test_acc[total_epoch-5:total_epoch]))\n",
    "\n",
    "    print('This is {} dataset'.format(dataset))\n",
    "\n",
    "    print(_acc.tolist())\n",
    "\n",
    "    print(np.mean(_acc))\n",
    "    print(np.sqrt(np.var(_acc)))\n",
    "    print('*' * 50)"
   ]
  },
  {
   "cell_type": "markdown",
   "metadata": {},
   "source": [
    "Reviewer 2"
   ]
  },
  {
   "cell_type": "code",
   "execution_count": 19,
   "metadata": {},
   "outputs": [
    {
     "name": "stdout",
     "output_type": "stream",
     "text": [
      "[0.868671679197995, 0.9548872180451127, 0.9548872180451127, 0.9548872180451127, 0.9548872180451127]\n",
      "0.9376441102756893\n",
      "0.03448621553884705\n"
     ]
    }
   ],
   "source": [
    "import numpy as np\n",
    "import pandas as pd\n",
    "\n",
    "dataset = 'basehock'\n",
    "total_epoch = 80\n",
    "\n",
    "_acc = np.zeros(5)\n",
    "\n",
    "for seed in range(5):\n",
    "\n",
    "    result = pd.read_csv('Response/Review2/{}_100clients_{}.csv'.format(dataset, seed))\n",
    "\n",
    "    test_acc = result['test_acc'].to_numpy()\n",
    "\n",
    "    _acc[seed] = (np.mean(test_acc[total_epoch-5:total_epoch]))\n",
    "\n",
    "print(_acc.tolist())\n",
    "\n",
    "print(np.mean(_acc))\n",
    "print(np.sqrt(np.var(_acc)))"
   ]
  },
  {
   "cell_type": "code",
   "execution_count": null,
   "metadata": {},
   "outputs": [],
   "source": [
    "import numpy as np\n",
    "from matplotlib import pyplot as plt\n",
    "\n",
    "total_epoch = 80\n",
    "end = total_epoch - 10 + 1\n",
    "\n",
    "def moving_average(x):\n",
    "    w = 10\n",
    "    x = np.array(x).flatten()\n",
    "    return np.convolve(x, np.ones(w), 'valid') / w\n",
    "\n",
    "\n",
    "def plot_moving_acc(train_acc, test_acc):\n",
    "    x = np.arange(total_epoch)\n",
    "    plt.figure(1)\n",
    "    plt.plot(x[:end], moving_average(train_acc), label='train acc')\n",
    "    plt.plot(x[:end], moving_average(test_acc), label='test acc')\n",
    "\n",
    "    plt.xlabel('epoch')\n",
    "    plt.ylabel('train and test acc')\n",
    "    plt.title('Train and Test Acc of gisette dataset')\n",
    "    plt.legend()\n",
    "    plt.show()\n",
    "\n",
    "    plt.close()\n",
    "\n",
    "\n",
    "def plot_acc(train_acc, test_acc):\n",
    "    x = np.arange(total_epoch)\n",
    "    plt.figure(1)\n",
    "    plt.plot(x, (train_acc), label='train acc')\n",
    "    plt.plot(x, (test_acc), label='test acc')\n",
    "\n",
    "    plt.xlabel('epoch')\n",
    "    plt.ylabel('train and test acc')\n",
    "    plt.title('Train and Test Acc of gisette dataset')\n",
    "    plt.legend()\n",
    "    plt.show()\n",
    "\n",
    "    plt.close()\n",
    "\n",
    "dataset = 'gisette'\n",
    "\n",
    "for seed in range(5):\n",
    "\n",
    "    result = pd.read_csv('Response/Review2/{}_100clients_{}.csv'.format(dataset, seed))\n",
    "\n",
    "    train_acc = result['train_acc'].to_numpy()\n",
    "    test_acc = result['test_acc'].to_numpy()\n",
    "\n",
    "    plot_moving_acc(train_acc, test_acc)\n",
    "\n"
   ]
  },
  {
   "cell_type": "markdown",
   "metadata": {},
   "source": [
    "Reviewer 3"
   ]
  },
  {
   "cell_type": "code",
   "execution_count": null,
   "metadata": {},
   "outputs": [],
   "source": [
    "from sklearn.metrics import roc_curve\n",
    "\n",
    "def _plot_roc(label, y_prob, file_dir):\n",
    "    fpr, tpr, thresholds_roc = roc_curve(label, y_prob)\n",
    "\n",
    "    fig = plt.figure()\n",
    "    ax = fig.add_subplot(1, 1, 1)\n",
    "    ax.plot(fpr, tpr, ls=\"-\", linewidth=2.0)\n",
    "    ax.grid(True, linestyle=\"-.\")\n",
    "    ax.set_xlabel(\"false positive rate\", labelpad=5, loc=\"center\")\n",
    "    ax.set_ylabel(\"true positive rate\", labelpad=5, loc=\"center\")\n",
    "    ax.set_title(\"ROC Curve\")\n",
    "\n",
    "    plt.show()\n",
    "    # plt.savefig(f\"{file_dir}/ROC_Curve.png\")\n",
    "    plt.close()"
   ]
  },
  {
   "cell_type": "code",
   "execution_count": null,
   "metadata": {},
   "outputs": [],
   "source": []
  }
 ],
 "metadata": {
  "interpreter": {
   "hash": "1579d4a348c2ef16482c05d3cfac916f73c8945ddf1938a1e045b3bdea82eece"
  },
  "kernelspec": {
   "display_name": "Python 3.9.7 ('VFL')",
   "language": "python",
   "name": "python3"
  },
  "language_info": {
   "codemirror_mode": {
    "name": "ipython",
    "version": 3
   },
   "file_extension": ".py",
   "mimetype": "text/x-python",
   "name": "python",
   "nbconvert_exporter": "python",
   "pygments_lexer": "ipython3",
   "version": "3.11.3"
  },
  "orig_nbformat": 4
 },
 "nbformat": 4,
 "nbformat_minor": 2
}
