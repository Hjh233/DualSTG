{
 "cells": [
  {
   "cell_type": "markdown",
   "metadata": {},
   "source": [
    "Calculate GINI values with different ratios of instances"
   ]
  },
  {
   "cell_type": "code",
   "execution_count": 1,
   "metadata": {},
   "outputs": [],
   "source": [
    "from scipy.io import loadmat\n",
    "from scipy.sparse import issparse\n",
    "import numpy as np\n",
    "from sklearn.preprocessing import MinMaxScaler\n",
    "from Data import VFLDataset\n",
    "from torch.utils.data import DataLoader\n",
    "import VFL\n",
    "import torch\n",
    "import os\n",
    "DIR = \"Data\""
   ]
  },
  {
   "cell_type": "code",
   "execution_count": 54,
   "metadata": {},
   "outputs": [
    {
     "name": "stdout",
     "output_type": "stream",
     "text": [
      "RELATHE.mat (1427, 4322) (1427,)\n",
      "Client 0: Feature Index 0-432\n",
      "Client 1: Feature Index 433-865\n",
      "Client 2: Feature Index 866-1297\n",
      "Client 3: Feature Index 1298-1729\n",
      "Client 4: Feature Index 1730-2161\n",
      "Client 5: Feature Index 2162-2593\n",
      "Client 6: Feature Index 2594-3025\n",
      "Client 7: Feature Index 3026-3457\n",
      "Client 8: Feature Index 3458-3889\n",
      "Server : Feature Index 3890-4321\n"
     ]
    }
   ],
   "source": [
    "file_name = 'RELATHE.mat'\n",
    "mat = loadmat(os.path.join(DIR, file_name))\n",
    "X = mat[\"X\"]\n",
    "y = mat[\"Y\"]\n",
    "if issparse(X):\n",
    "    X = X.todense()\n",
    "y = y.flatten()\n",
    "print(file_name, X.shape, y.shape)\n",
    "y[np.where(y == 1)] = 0\n",
    "y[np.where(y == 2)] = 1\n",
    "scaler = MinMaxScaler()\n",
    "X = scaler.fit_transform(X)\n",
    "dataset = VFLDataset(data_source=(X, y), \n",
    "                    num_clients=9,\n",
    "                    gini_portion=None,\n",
    "                    insert_noise=False,\n",
    "                    test_size=0.2)\n",
    "train_loader = DataLoader(dataset.train(), batch_size=256, shuffle=False)\n",
    "val_loader = DataLoader(dataset.valid(), batch_size=1000, shuffle=False)\n",
    "test_loader = DataLoader(dataset.test(), batch_size=1000, shuffle=False)\n",
    "input_dim_list = dataset.get_input_dim_list()\n",
    "output_dim = np.unique(y).size\n",
    "criterion = torch.nn.CrossEntropyLoss()"
   ]
  },
  {
   "cell_type": "code",
   "execution_count": 60,
   "metadata": {},
   "outputs": [
    {
     "name": "stdout",
     "output_type": "stream",
     "text": [
      "1299.0\n",
      "2161.0\n",
      "1288.0\n",
      "2161.0\n",
      "1275.0\n",
      "2161.0\n",
      "1284.0\n",
      "2161.0\n",
      "1279.0\n",
      "2161.0\n",
      "0.5946321147616844\n"
     ]
    }
   ],
   "source": [
    "original_gini_labels = dataset.gini_filter(gini_portion=0.5, \n",
    "                                           not_init_features=[], \n",
    "                                           sample_proportion=0.0, \n",
    "                                           random_seed=0)\n",
    "similarity = np.zeros(5)\n",
    "\n",
    "for random_seed in range(5):\n",
    "    gini_labels = dataset.gini_filter(\n",
    "                          gini_portion=0.5, \n",
    "                          not_init_features=[], \n",
    "                          sample_proportion=0.9, \n",
    "                          random_seed=random_seed\n",
    "                          )\n",
    "    print(np.sum(np.multiply(gini_labels, original_gini_labels)))\n",
    "    print(np.sum(np.multiply(original_gini_labels, original_gini_labels)))\n",
    "    similarity[random_seed] = np.sum(np.multiply(gini_labels, original_gini_labels)) / np.sum(np.multiply(original_gini_labels, original_gini_labels))\n",
    "\n",
    "print(np.average(similarity))\n"
   ]
  },
  {
   "cell_type": "code",
   "execution_count": 10,
   "metadata": {},
   "outputs": [
    {
     "name": "stdout",
     "output_type": "stream",
     "text": [
      "[]\n"
     ]
    }
   ],
   "source": [
    "print(np.random.choice(10, 0, replace=False))"
   ]
  }
 ],
 "metadata": {
  "kernelspec": {
   "display_name": "base",
   "language": "python",
   "name": "python3"
  },
  "language_info": {
   "codemirror_mode": {
    "name": "ipython",
    "version": 3
   },
   "file_extension": ".py",
   "mimetype": "text/x-python",
   "name": "python",
   "nbconvert_exporter": "python",
   "pygments_lexer": "ipython3",
   "version": "3.11.3"
  },
  "orig_nbformat": 4
 },
 "nbformat": 4,
 "nbformat_minor": 2
}
