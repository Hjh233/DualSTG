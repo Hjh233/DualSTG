{
 "cells": [
  {
   "cell_type": "code",
   "execution_count": 3,
   "metadata": {},
   "outputs": [],
   "source": [
    "import pickle\n",
    "loaded = pickle.load(open('PCMAC.mat.pkl', 'rb'))"
   ]
  },
  {
   "cell_type": "code",
   "execution_count": 4,
   "metadata": {},
   "outputs": [],
   "source": [
    "stg = {'percentage': [], 'accuracy': []}\n",
    "stg_gini = {'percentage': [], 'accuracy': []}\n",
    "dual_stg = {'percentage': [], 'accuracy': []}\n",
    "dual_stg_double = {'percentage': [], 'accuracy': []}\n",
    "sffs_half = {'percentage': [], 'accuracy': []}\n",
    "sffs_quarter = {'percentage': [], 'accuracy': []}\n",
    "for result in loaded:\n",
    "    percentage = result['percentage']\n",
    "    stg_accuracies = result['STG']\n",
    "    stg_gini_accuracies = result['GINI+STG']\n",
    "    dual_stg_accuracies = result['DualSTG']\n",
    "    dual_stg_double_accuracies = result['DualSTG-double']\n",
    "    sffs_half_accuracies = result['SFFS 0.5']\n",
    "    sffs_quarter_accuracies = result['SFFS 0.25']\n",
    "    for i in range(len(stg_accuracies)):\n",
    "        stg['percentage'].append(percentage)\n",
    "        stg['accuracy'].append(stg_accuracies[i])\n",
    "        stg_gini['percentage'].append(percentage)\n",
    "        stg_gini['accuracy'].append(stg_gini_accuracies[i])\n",
    "        dual_stg['percentage'].append(percentage)\n",
    "        dual_stg['accuracy'].append(dual_stg_accuracies[i])\n",
    "        dual_stg_double['percentage'].append(percentage)\n",
    "        dual_stg_double['accuracy'].append(dual_stg_double_accuracies[i])\n",
    "        sffs_half['percentage'].append(percentage)\n",
    "        sffs_half['accuracy'].append(sffs_half_accuracies[i])\n",
    "        sffs_quarter['percentage'].append(percentage)\n",
    "        sffs_quarter['accuracy'].append(sffs_quarter_accuracies[i])"
   ]
  },
  {
   "cell_type": "code",
   "execution_count": 8,
   "metadata": {},
   "outputs": [
    {
     "data": {
      "image/png": "[encoded data removed]",
      "text/plain": [
       "<Figure size 432x288 with 1 Axes>"
      ]
     },
     "metadata": {
      "needs_background": "light"
     },
     "output_type": "display_data"
    }
   ],
   "source": [
    "import seaborn as sns\n",
    "import matplotlib.pyplot as plt\n",
    "sns.lineplot(x='percentage', y='accuracy', data=stg, label=\"STG\", marker='o')\n",
    "sns.lineplot(x='percentage', y='accuracy', data=stg_gini, label=\"STG+GINI\", marker='o')\n",
    "# sns.lineplot(x='percentage', y='accuracy', data=dual_stg, label=\"DualSTG\", marker='o')\n",
    "sns.lineplot(x='percentage', y='accuracy', data=dual_stg_double, label=\"DualSTG\", marker='o')\n",
    "sns.lineplot(x='percentage', y='accuracy', data=sffs_half, label=\"SFFS 0.5\", marker='o')\n",
    "sns.lineplot(x='percentage', y='accuracy', data=sffs_quarter, label=\"SFFS 0.25\", marker='o')\n",
    "plt.legend()\n",
    "plt.ylim(0.5, 1)\n",
    "plt.show()"
   ]
  }
 ],
 "metadata": {
  "interpreter": {
   "hash": "1579d4a348c2ef16482c05d3cfac916f73c8945ddf1938a1e045b3bdea82eece"
  },
  "kernelspec": {
   "display_name": "Python 3.9.7 ('VFL')",
   "language": "python",
   "name": "python3"
  },
  "language_info": {
   "codemirror_mode": {
    "name": "ipython",
    "version": 3
   },
   "file_extension": ".py",
   "mimetype": "text/x-python",
   "name": "python",
   "nbconvert_exporter": "python",
   "pygments_lexer": "ipython3",
   "version": "3.9.7"
  },
  "orig_nbformat": 4
 },
 "nbformat": 4,
 "nbformat_minor": 2
}
