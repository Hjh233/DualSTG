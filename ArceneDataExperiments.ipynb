{
 "cells": [
  {
   "cell_type": "code",
   "execution_count": 2,
   "metadata": {},
   "outputs": [],
   "source": [
    "from scipy.io import loadmat\n",
    "from scipy.sparse import issparse\n",
    "import numpy as np\n",
    "from sklearn.preprocessing import MinMaxScaler\n",
    "from Data import VFLDataset\n",
    "from torch.utils.data import DataLoader\n",
    "import VFL\n",
    "import torch\n",
    "import os\n",
    "DIR = \"Data\""
   ]
  },
  {
   "cell_type": "markdown",
   "metadata": {},
   "source": [
    "# Arcene"
   ]
  },
  {
   "cell_type": "markdown",
   "metadata": {},
   "source": [
    "* EPOCH: All train 40 Epoch\n",
    "* Train-Test-Split: 0.5 0.5\n",
    "* Network Architecture: (8 -> 8)\n",
    "* Lam = 0.2\n",
    "* Top_lam = 0.3\n",
    "* num_clients = 2 client 1 client 2 server emb server top\n",
    "* embedding_size = 8\n",
    "* input_feature_size = 10000"
   ]
  },
  {
   "cell_type": "code",
   "execution_count": 6,
   "metadata": {},
   "outputs": [
    {
     "name": "stdout",
     "output_type": "stream",
     "text": [
      "(200, 10000)\n",
      "arcene.mat (200, 10000) (200,)\n",
      "Client 0: Feature Index 0-999\n",
      "Client 1: Feature Index 1000-1999\n",
      "Client 2: Feature Index 2000-2999\n",
      "Client 3: Feature Index 3000-3999\n",
      "Client 4: Feature Index 4000-4999\n",
      "Client 5: Feature Index 5000-5999\n",
      "Client 6: Feature Index 6000-6999\n",
      "Client 7: Feature Index 7000-7999\n",
      "Client 8: Feature Index 8000-8999\n",
      "Server : Feature Index 9000-9999\n"
     ]
    }
   ],
   "source": [
    "file_name = 'arcene.mat'\n",
    "mat = loadmat(os.path.join(DIR, file_name))\n",
    "X = mat[\"X\"]\n",
    "y = mat[\"Y\"]\n",
    "print(X.shape)\n",
    "if issparse(X):\n",
    "    X = X.todense()\n",
    "y = y.flatten()\n",
    "print(file_name, X.shape, y.shape)\n",
    "y[np.where(y == -1)] = 0\n",
    "scaler = MinMaxScaler()\n",
    "X = scaler.fit_transform(X)\n",
    "dataset = VFLDataset(data_source=(X, y), \n",
    "                    num_clients=9,\n",
    "                    gini_portion=None,\n",
    "                    insert_noise=False,\n",
    "                    test_size=0.5)\n",
    "train_loader = DataLoader(dataset.train(), batch_size=128, shuffle=True)\n",
    "val_loader = DataLoader(dataset.valid(), batch_size=1000, shuffle=True)\n",
    "test_loader = DataLoader(dataset.test(), batch_size=1000, shuffle=True)\n",
    "input_dim_list = dataset.get_input_dim_list()\n",
    "output_dim = np.unique(y).size\n",
    "criterion = torch.nn.CrossEntropyLoss()"
   ]
  },
  {
   "cell_type": "markdown",
   "metadata": {},
   "source": [
    "fnn"
   ]
  },
  {
   "cell_type": "code",
   "execution_count": 204,
   "metadata": {},
   "outputs": [],
   "source": [
    "%%capture\n",
    "models, top_model = VFL.make_binary_models(\n",
    "                            input_dim_list=input_dim_list,\n",
    "                            type='FNN',\n",
    "                            emb_dim=8,\n",
    "                            output_dim=output_dim, hidden_dims=[8, 8],\n",
    "                            activation='relu')\n",
    "fnn_history = VFL.train(models, top_model, train_loader, val_loader, test_loader,\n",
    "                epochs=40,  optimizer='Adam',verbose=True, save_mask_at=10000, \n",
    "                criterion=criterion)"
   ]
  },
  {
   "cell_type": "code",
   "execution_count": 205,
   "metadata": {},
   "outputs": [
    {
     "data": {
      "text/html": [
       "<div>\n",
       "<style scoped>\n",
       "    .dataframe tbody tr th:only-of-type {\n",
       "        vertical-align: middle;\n",
       "    }\n",
       "\n",
       "    .dataframe tbody tr th {\n",
       "        vertical-align: top;\n",
       "    }\n",
       "\n",
       "    .dataframe thead th {\n",
       "        text-align: right;\n",
       "    }\n",
       "</style>\n",
       "<table border=\"1\" class=\"dataframe\">\n",
       "  <thead>\n",
       "    <tr style=\"text-align: right;\">\n",
       "      <th></th>\n",
       "      <th>train_loss</th>\n",
       "      <th>train_acc</th>\n",
       "      <th>val_acc</th>\n",
       "      <th>test_acc</th>\n",
       "    </tr>\n",
       "  </thead>\n",
       "  <tbody>\n",
       "    <tr>\n",
       "      <th>35</th>\n",
       "      <td>0.368368</td>\n",
       "      <td>0.93</td>\n",
       "      <td>0.94</td>\n",
       "      <td>0.94</td>\n",
       "    </tr>\n",
       "    <tr>\n",
       "      <th>36</th>\n",
       "      <td>0.350603</td>\n",
       "      <td>0.94</td>\n",
       "      <td>0.94</td>\n",
       "      <td>0.94</td>\n",
       "    </tr>\n",
       "    <tr>\n",
       "      <th>37</th>\n",
       "      <td>0.332023</td>\n",
       "      <td>0.94</td>\n",
       "      <td>0.94</td>\n",
       "      <td>0.94</td>\n",
       "    </tr>\n",
       "    <tr>\n",
       "      <th>38</th>\n",
       "      <td>0.313225</td>\n",
       "      <td>0.94</td>\n",
       "      <td>0.95</td>\n",
       "      <td>0.95</td>\n",
       "    </tr>\n",
       "    <tr>\n",
       "      <th>39</th>\n",
       "      <td>0.294042</td>\n",
       "      <td>0.95</td>\n",
       "      <td>0.95</td>\n",
       "      <td>0.95</td>\n",
       "    </tr>\n",
       "  </tbody>\n",
       "</table>\n",
       "</div>"
      ],
      "text/plain": [
       "    train_loss  train_acc  val_acc  test_acc\n",
       "35    0.368368       0.93     0.94      0.94\n",
       "36    0.350603       0.94     0.94      0.94\n",
       "37    0.332023       0.94     0.94      0.94\n",
       "38    0.313225       0.94     0.95      0.95\n",
       "39    0.294042       0.95     0.95      0.95"
      ]
     },
     "execution_count": 205,
     "metadata": {},
     "output_type": "execute_result"
    }
   ],
   "source": [
    "fnn_history.tail(5)"
   ]
  },
  {
   "cell_type": "markdown",
   "metadata": {},
   "source": [
    "STG"
   ]
  },
  {
   "cell_type": "code",
   "execution_count": 206,
   "metadata": {},
   "outputs": [],
   "source": [
    "%%capture\n",
    "models, top_model = VFL.make_binary_models(\n",
    "                            input_dim_list=input_dim_list,\n",
    "                            type='STG',\n",
    "                            emb_dim=8,\n",
    "                            output_dim=output_dim, hidden_dims=[8, 8],\n",
    "                            activation='relu', lam=0.2)\n",
    "stg_history = VFL.train(models, top_model, train_loader, val_loader, test_loader,\n",
    "                epochs=40, , optimizer='Adam',verbose=True, save_mask_at=10000, \n",
    "                criterion=criterion)"
   ]
  },
  {
   "cell_type": "code",
   "execution_count": 207,
   "metadata": {},
   "outputs": [
    {
     "data": {
      "text/html": [
       "<div>\n",
       "<style scoped>\n",
       "    .dataframe tbody tr th:only-of-type {\n",
       "        vertical-align: middle;\n",
       "    }\n",
       "\n",
       "    .dataframe tbody tr th {\n",
       "        vertical-align: top;\n",
       "    }\n",
       "\n",
       "    .dataframe thead th {\n",
       "        text-align: right;\n",
       "    }\n",
       "</style>\n",
       "<table border=\"1\" class=\"dataframe\">\n",
       "  <thead>\n",
       "    <tr style=\"text-align: right;\">\n",
       "      <th></th>\n",
       "      <th>train_loss</th>\n",
       "      <th>train_acc</th>\n",
       "      <th>val_acc</th>\n",
       "      <th>test_acc</th>\n",
       "      <th>num_feats</th>\n",
       "    </tr>\n",
       "  </thead>\n",
       "  <tbody>\n",
       "    <tr>\n",
       "      <th>35</th>\n",
       "      <td>0.124657</td>\n",
       "      <td>1.0</td>\n",
       "      <td>0.99</td>\n",
       "      <td>0.97</td>\n",
       "      <td>10000</td>\n",
       "    </tr>\n",
       "    <tr>\n",
       "      <th>36</th>\n",
       "      <td>0.124670</td>\n",
       "      <td>1.0</td>\n",
       "      <td>1.00</td>\n",
       "      <td>0.99</td>\n",
       "      <td>10000</td>\n",
       "    </tr>\n",
       "    <tr>\n",
       "      <th>37</th>\n",
       "      <td>0.127946</td>\n",
       "      <td>1.0</td>\n",
       "      <td>0.97</td>\n",
       "      <td>0.97</td>\n",
       "      <td>10000</td>\n",
       "    </tr>\n",
       "    <tr>\n",
       "      <th>38</th>\n",
       "      <td>0.124530</td>\n",
       "      <td>1.0</td>\n",
       "      <td>0.98</td>\n",
       "      <td>0.97</td>\n",
       "      <td>10000</td>\n",
       "    </tr>\n",
       "    <tr>\n",
       "      <th>39</th>\n",
       "      <td>0.124354</td>\n",
       "      <td>1.0</td>\n",
       "      <td>1.00</td>\n",
       "      <td>0.97</td>\n",
       "      <td>10000</td>\n",
       "    </tr>\n",
       "  </tbody>\n",
       "</table>\n",
       "</div>"
      ],
      "text/plain": [
       "    train_loss  train_acc  val_acc  test_acc  num_feats\n",
       "35    0.124657        1.0     0.99      0.97      10000\n",
       "36    0.124670        1.0     1.00      0.99      10000\n",
       "37    0.127946        1.0     0.97      0.97      10000\n",
       "38    0.124530        1.0     0.98      0.97      10000\n",
       "39    0.124354        1.0     1.00      0.97      10000"
      ]
     },
     "execution_count": 207,
     "metadata": {},
     "output_type": "execute_result"
    }
   ],
   "source": [
    "stg_history.tail(5)"
   ]
  },
  {
   "cell_type": "markdown",
   "metadata": {},
   "source": [
    "STG with GINI Initialization"
   ]
  },
  {
   "cell_type": "code",
   "execution_count": 7,
   "metadata": {},
   "outputs": [
    {
     "name": "stdout",
     "output_type": "stream",
     "text": [
      "Epoch: 1, Train Loss: 0.8401, Train Acc: 0.4000, Val Acc 0.6000, Test Acc: 0.6000, Best Acc: 0.6, Num Feats: 10000.0000\n",
      "Epoch: 2, Train Loss: 0.8032, Train Acc: 0.6000, Val Acc 0.6000, Test Acc: 0.6000, Best Acc: 0.6, Num Feats: 10000.0000\n",
      "Epoch: 3, Train Loss: 0.7982, Train Acc: 0.6000, Val Acc 0.6000, Test Acc: 0.6000, Best Acc: 0.6, Num Feats: 10000.0000\n",
      "Epoch: 4, Train Loss: 0.7744, Train Acc: 0.6000, Val Acc 0.6000, Test Acc: 0.6000, Best Acc: 0.6, Num Feats: 10000.0000\n",
      "Epoch: 5, Train Loss: 0.7466, Train Acc: 0.6000, Val Acc 0.6000, Test Acc: 0.6000, Best Acc: 0.6, Num Feats: 10000.0000\n",
      "Epoch: 6, Train Loss: 0.7235, Train Acc: 0.6000, Val Acc 0.6800, Test Acc: 0.7000, Best Acc: 0.68, Num Feats: 10000.0000\n",
      "Epoch: 7, Train Loss: 0.6976, Train Acc: 0.6600, Val Acc 0.7100, Test Acc: 0.6700, Best Acc: 0.71, Num Feats: 9999.0000\n",
      "Epoch: 8, Train Loss: 0.6864, Train Acc: 0.7600, Val Acc 0.8000, Test Acc: 0.7900, Best Acc: 0.8, Num Feats: 9959.0000\n",
      "Epoch: 9, Train Loss: 0.6720, Train Acc: 0.8100, Val Acc 0.7800, Test Acc: 0.8000, Best Acc: 0.8, Num Feats: 9679.0000\n",
      "Epoch: 10, Train Loss: 0.6426, Train Acc: 0.7900, Val Acc 0.8200, Test Acc: 0.8000, Best Acc: 0.82, Num Feats: 8921.0000\n",
      "Epoch: 11, Train Loss: 0.6217, Train Acc: 0.7700, Val Acc 0.8300, Test Acc: 0.8500, Best Acc: 0.83, Num Feats: 7988.0000\n",
      "Epoch: 12, Train Loss: 0.5890, Train Acc: 0.8300, Val Acc 0.8000, Test Acc: 0.8000, Best Acc: 0.83, Num Feats: 7358.0000\n",
      "Epoch: 13, Train Loss: 0.5589, Train Acc: 0.8100, Val Acc 0.8100, Test Acc: 0.8100, Best Acc: 0.83, Num Feats: 7038.0000\n",
      "Epoch: 14, Train Loss: 0.5148, Train Acc: 0.8200, Val Acc 0.9200, Test Acc: 0.9500, Best Acc: 0.92, Num Feats: 6847.0000\n",
      "Epoch: 15, Train Loss: 0.4561, Train Acc: 0.9300, Val Acc 0.9700, Test Acc: 0.9800, Best Acc: 0.97, Num Feats: 6708.0000\n",
      "Epoch: 16, Train Loss: 0.4245, Train Acc: 0.9600, Val Acc 0.9900, Test Acc: 0.9900, Best Acc: 0.99, Num Feats: 6646.0000\n",
      "Epoch: 17, Train Loss: 0.3197, Train Acc: 1.0000, Val Acc 0.8700, Test Acc: 0.9700, Best Acc: 0.99, Num Feats: 6595.0000\n",
      "Epoch: 18, Train Loss: 0.3563, Train Acc: 0.8800, Val Acc 0.9700, Test Acc: 0.9900, Best Acc: 0.99, Num Feats: 6554.0000\n",
      "Epoch: 19, Train Loss: 0.2290, Train Acc: 1.0000, Val Acc 0.9000, Test Acc: 0.8700, Best Acc: 0.99, Num Feats: 6534.0000\n",
      "Epoch: 20, Train Loss: 0.3276, Train Acc: 0.9100, Val Acc 0.9500, Test Acc: 0.9500, Best Acc: 0.99, Num Feats: 6508.0000\n",
      "Epoch: 21, Train Loss: 0.2680, Train Acc: 0.9400, Val Acc 1.0000, Test Acc: 0.9900, Best Acc: 1.0, Num Feats: 6502.0000\n",
      "Epoch: 22, Train Loss: 0.2105, Train Acc: 0.9900, Val Acc 0.8700, Test Acc: 0.9000, Best Acc: 1.0, Num Feats: 6489.0000\n",
      "Epoch: 23, Train Loss: 0.2944, Train Acc: 0.9300, Val Acc 1.0000, Test Acc: 1.0000, Best Acc: 1.0, Num Feats: 6487.0000\n",
      "Epoch: 24, Train Loss: 0.1554, Train Acc: 1.0000, Val Acc 1.0000, Test Acc: 0.9800, Best Acc: 1.0, Num Feats: 6473.0000\n",
      "Epoch: 25, Train Loss: 0.1580, Train Acc: 0.9900, Val Acc 0.9500, Test Acc: 0.9200, Best Acc: 1.0, Num Feats: 6476.0000\n",
      "Epoch: 26, Train Loss: 0.2322, Train Acc: 0.9600, Val Acc 0.9500, Test Acc: 0.9900, Best Acc: 1.0, Num Feats: 6479.0000\n",
      "Epoch: 27, Train Loss: 0.3116, Train Acc: 0.9100, Val Acc 1.0000, Test Acc: 1.0000, Best Acc: 1.0, Num Feats: 6474.0000\n",
      "Epoch: 28, Train Loss: 0.1401, Train Acc: 1.0000, Val Acc 0.9500, Test Acc: 0.9100, Best Acc: 1.0, Num Feats: 6486.0000\n",
      "Epoch: 29, Train Loss: 0.3060, Train Acc: 0.9100, Val Acc 0.9800, Test Acc: 0.9800, Best Acc: 1.0, Num Feats: 6473.0000\n",
      "Epoch: 30, Train Loss: 0.2126, Train Acc: 0.9800, Val Acc 1.0000, Test Acc: 1.0000, Best Acc: 1.0, Num Feats: 6472.0000\n",
      "Epoch: 31, Train Loss: 0.1382, Train Acc: 1.0000, Val Acc 1.0000, Test Acc: 0.9900, Best Acc: 1.0, Num Feats: 6480.0000\n",
      "Epoch: 32, Train Loss: 0.1533, Train Acc: 0.9900, Val Acc 1.0000, Test Acc: 0.9900, Best Acc: 1.0, Num Feats: 6470.0000\n",
      "Epoch: 33, Train Loss: 0.1341, Train Acc: 1.0000, Val Acc 0.9700, Test Acc: 0.9300, Best Acc: 1.0, Num Feats: 6469.0000\n",
      "Epoch: 34, Train Loss: 0.1868, Train Acc: 0.9700, Val Acc 1.0000, Test Acc: 0.9800, Best Acc: 1.0, Num Feats: 6469.0000\n",
      "Epoch: 35, Train Loss: 0.1681, Train Acc: 0.9700, Val Acc 1.0000, Test Acc: 0.9900, Best Acc: 1.0, Num Feats: 6484.0000\n",
      "Epoch: 36, Train Loss: 0.1288, Train Acc: 1.0000, Val Acc 1.0000, Test Acc: 1.0000, Best Acc: 1.0, Num Feats: 6479.0000\n",
      "Epoch: 37, Train Loss: 0.1287, Train Acc: 1.0000, Val Acc 1.0000, Test Acc: 1.0000, Best Acc: 1.0, Num Feats: 6471.0000\n",
      "Epoch: 38, Train Loss: 0.1281, Train Acc: 1.0000, Val Acc 1.0000, Test Acc: 1.0000, Best Acc: 1.0, Num Feats: 6474.0000\n",
      "Epoch: 39, Train Loss: 0.1275, Train Acc: 1.0000, Val Acc 1.0000, Test Acc: 1.0000, Best Acc: 1.0, Num Feats: 6469.0000\n",
      "Epoch: 40, Train Loss: 0.1304, Train Acc: 1.0000, Val Acc 1.0000, Test Acc: 1.0000, Best Acc: 1.0, Num Feats: 6459.0000\n"
     ]
    }
   ],
   "source": [
    "gini_labels = dataset.gini_filter(0.5)\n",
    "feat_idx_list = dataset.get_feature_index_list()\n",
    "mus = VFL.initialize_mu(gini_labels, feat_idx_list)\n",
    "models, top_model = VFL.make_binary_models(\n",
    "                            input_dim_list=input_dim_list,\n",
    "                            type='STG',\n",
    "                            emb_dim=8,\n",
    "                            output_dim=output_dim, hidden_dims=[8, 8],\n",
    "                            activation='relu', lam=0.2, mus=mus)\n",
    "stg_gini_history = VFL.train(models, top_model, train_loader, val_loader, test_loader,\n",
    "                epochs=40,  optimizer='Adam',verbose=True, save_mask_at=10000, \n",
    "                criterion=criterion)"
   ]
  },
  {
   "cell_type": "code",
   "execution_count": 209,
   "metadata": {},
   "outputs": [
    {
     "data": {
      "text/html": [
       "<div>\n",
       "<style scoped>\n",
       "    .dataframe tbody tr th:only-of-type {\n",
       "        vertical-align: middle;\n",
       "    }\n",
       "\n",
       "    .dataframe tbody tr th {\n",
       "        vertical-align: top;\n",
       "    }\n",
       "\n",
       "    .dataframe thead th {\n",
       "        text-align: right;\n",
       "    }\n",
       "</style>\n",
       "<table border=\"1\" class=\"dataframe\">\n",
       "  <thead>\n",
       "    <tr style=\"text-align: right;\">\n",
       "      <th></th>\n",
       "      <th>train_loss</th>\n",
       "      <th>train_acc</th>\n",
       "      <th>val_acc</th>\n",
       "      <th>test_acc</th>\n",
       "      <th>num_feats</th>\n",
       "    </tr>\n",
       "  </thead>\n",
       "  <tbody>\n",
       "    <tr>\n",
       "      <th>35</th>\n",
       "      <td>0.138181</td>\n",
       "      <td>1.00</td>\n",
       "      <td>1.00</td>\n",
       "      <td>0.99</td>\n",
       "      <td>6701</td>\n",
       "    </tr>\n",
       "    <tr>\n",
       "      <th>36</th>\n",
       "      <td>0.209717</td>\n",
       "      <td>0.95</td>\n",
       "      <td>0.98</td>\n",
       "      <td>1.00</td>\n",
       "      <td>6674</td>\n",
       "    </tr>\n",
       "    <tr>\n",
       "      <th>37</th>\n",
       "      <td>0.130873</td>\n",
       "      <td>1.00</td>\n",
       "      <td>1.00</td>\n",
       "      <td>1.00</td>\n",
       "      <td>6668</td>\n",
       "    </tr>\n",
       "    <tr>\n",
       "      <th>38</th>\n",
       "      <td>0.129370</td>\n",
       "      <td>1.00</td>\n",
       "      <td>1.00</td>\n",
       "      <td>1.00</td>\n",
       "      <td>6654</td>\n",
       "    </tr>\n",
       "    <tr>\n",
       "      <th>39</th>\n",
       "      <td>0.127612</td>\n",
       "      <td>1.00</td>\n",
       "      <td>1.00</td>\n",
       "      <td>1.00</td>\n",
       "      <td>6637</td>\n",
       "    </tr>\n",
       "  </tbody>\n",
       "</table>\n",
       "</div>"
      ],
      "text/plain": [
       "    train_loss  train_acc  val_acc  test_acc  num_feats\n",
       "35    0.138181       1.00     1.00      0.99       6701\n",
       "36    0.209717       0.95     0.98      1.00       6674\n",
       "37    0.130873       1.00     1.00      1.00       6668\n",
       "38    0.129370       1.00     1.00      1.00       6654\n",
       "39    0.127612       1.00     1.00      1.00       6637"
      ]
     },
     "execution_count": 209,
     "metadata": {},
     "output_type": "execute_result"
    }
   ],
   "source": [
    "stg_gini_history.tail(5)"
   ]
  },
  {
   "cell_type": "markdown",
   "metadata": {},
   "source": [
    "Dual STG with GINI Initialization"
   ]
  },
  {
   "cell_type": "code",
   "execution_count": 214,
   "metadata": {},
   "outputs": [],
   "source": [
    "%%capture\n",
    "mus = VFL.initialize_mu(gini_labels, feat_idx_list)\n",
    "models, top_model = VFL.make_binary_models(\n",
    "    input_dim_list=input_dim_list,\n",
    "    type=\"DualSTG\",\n",
    "    emb_dim=8,\n",
    "    output_dim=output_dim,\n",
    "    hidden_dims=[8, 8],\n",
    "    activation=\"relu\",\n",
    "    mus=mus, top_lam=0.8, lam=0.2)\n",
    "dual_stg_gini_history = VFL.train(\n",
    "    models,\n",
    "    top_model,\n",
    "    train_loader,\n",
    "    val_loader,\n",
    "    test_loader,\n",
    "    epochs=40,\n",
    "    optimizer='Adam',\n",
    "    criterion=criterion,\n",
    "    verbose=True,\n",
    "    save_mask_at=100000, freeze_top_till=0)"
   ]
  },
  {
   "cell_type": "code",
   "execution_count": 215,
   "metadata": {},
   "outputs": [
    {
     "data": {
      "text/html": [
       "<div>\n",
       "<style scoped>\n",
       "    .dataframe tbody tr th:only-of-type {\n",
       "        vertical-align: middle;\n",
       "    }\n",
       "\n",
       "    .dataframe tbody tr th {\n",
       "        vertical-align: top;\n",
       "    }\n",
       "\n",
       "    .dataframe thead th {\n",
       "        text-align: right;\n",
       "    }\n",
       "</style>\n",
       "<table border=\"1\" class=\"dataframe\">\n",
       "  <thead>\n",
       "    <tr style=\"text-align: right;\">\n",
       "      <th></th>\n",
       "      <th>train_loss</th>\n",
       "      <th>train_acc</th>\n",
       "      <th>val_acc</th>\n",
       "      <th>test_acc</th>\n",
       "      <th>num_feats</th>\n",
       "      <th>num_emb</th>\n",
       "    </tr>\n",
       "  </thead>\n",
       "  <tbody>\n",
       "    <tr>\n",
       "      <th>35</th>\n",
       "      <td>0.695254</td>\n",
       "      <td>0.99</td>\n",
       "      <td>0.99</td>\n",
       "      <td>0.99</td>\n",
       "      <td>5878</td>\n",
       "      <td>24</td>\n",
       "    </tr>\n",
       "    <tr>\n",
       "      <th>36</th>\n",
       "      <td>0.738949</td>\n",
       "      <td>0.99</td>\n",
       "      <td>1.00</td>\n",
       "      <td>0.99</td>\n",
       "      <td>5884</td>\n",
       "      <td>24</td>\n",
       "    </tr>\n",
       "    <tr>\n",
       "      <th>37</th>\n",
       "      <td>0.637581</td>\n",
       "      <td>1.00</td>\n",
       "      <td>0.98</td>\n",
       "      <td>1.00</td>\n",
       "      <td>5883</td>\n",
       "      <td>24</td>\n",
       "    </tr>\n",
       "    <tr>\n",
       "      <th>38</th>\n",
       "      <td>1.018261</td>\n",
       "      <td>0.79</td>\n",
       "      <td>0.99</td>\n",
       "      <td>0.92</td>\n",
       "      <td>5886</td>\n",
       "      <td>24</td>\n",
       "    </tr>\n",
       "    <tr>\n",
       "      <th>39</th>\n",
       "      <td>0.639038</td>\n",
       "      <td>0.96</td>\n",
       "      <td>1.00</td>\n",
       "      <td>1.00</td>\n",
       "      <td>5893</td>\n",
       "      <td>24</td>\n",
       "    </tr>\n",
       "  </tbody>\n",
       "</table>\n",
       "</div>"
      ],
      "text/plain": [
       "    train_loss  train_acc  val_acc  test_acc  num_feats  num_emb\n",
       "35    0.695254       0.99     0.99      0.99       5878       24\n",
       "36    0.738949       0.99     1.00      0.99       5884       24\n",
       "37    0.637581       1.00     0.98      1.00       5883       24\n",
       "38    1.018261       0.79     0.99      0.92       5886       24\n",
       "39    0.639038       0.96     1.00      1.00       5893       24"
      ]
     },
     "execution_count": 215,
     "metadata": {},
     "output_type": "execute_result"
    }
   ],
   "source": [
    "dual_stg_gini_history.tail()"
   ]
  },
  {
   "cell_type": "code",
   "execution_count": 217,
   "metadata": {},
   "outputs": [
    {
     "name": "stdout",
     "output_type": "stream",
     "text": [
      "1.0\n"
     ]
    }
   ],
   "source": [
    "print( dual_stg_gini_history['num_emb'].sum()/(3*8*40))"
   ]
  },
  {
   "cell_type": "markdown",
   "metadata": {},
   "source": [
    "dual stg with longer training"
   ]
  },
  {
   "cell_type": "code",
   "execution_count": 9,
   "metadata": {},
   "outputs": [
    {
     "name": "stdout",
     "output_type": "stream",
     "text": [
      "model size: 0.010MB\n"
     ]
    }
   ],
   "source": [
    "mus = VFL.initialize_mu(gini_labels, feat_idx_list)\n",
    "models, top_model = VFL.make_binary_models(\n",
    "    input_dim_list=input_dim_list,\n",
    "    type=\"DualSTG\",\n",
    "    emb_dim=8,\n",
    "    output_dim=output_dim,\n",
    "    hidden_dims=[8, 8],\n",
    "    activation=\"relu\",\n",
    "    mus=mus, top_lam=0.8, lam=0.2)\n",
    "\n",
    "\n",
    "'''\n",
    "   ref: https://discuss.pytorch.org/t/finding-model-size/130275\n",
    "'''\n",
    "param_size = 0\n",
    "for param in top_model.parameters():\n",
    "    param_size += param.nelement() * param.element_size()\n",
    "buffer_size = 0\n",
    "for buffer in top_model.buffers():\n",
    "    buffer_size += buffer.nelement() * buffer.element_size()\n",
    "\n",
    "size_all_mb = (param_size + buffer_size) / 1024**2\n",
    "print('model size: {:.3f}MB'.format(size_all_mb))\n",
    "\n",
    "# longer_dual_stg_gini_history = VFL.train(\n",
    "#     models,\n",
    "#     top_model,\n",
    "#     train_loader,\n",
    "#     val_loader,\n",
    "#     test_loader,\n",
    "#     epochs=80,\n",
    "#     optimizer='Adam',\n",
    "#     criterion=criterion,\n",
    "#     verbose=True,\n",
    "#     save_mask_at=100000, freeze_top_till=0)"
   ]
  },
  {
   "cell_type": "code",
   "execution_count": 243,
   "metadata": {},
   "outputs": [
    {
     "data": {
      "text/html": [
       "<div>\n",
       "<style scoped>\n",
       "    .dataframe tbody tr th:only-of-type {\n",
       "        vertical-align: middle;\n",
       "    }\n",
       "\n",
       "    .dataframe tbody tr th {\n",
       "        vertical-align: top;\n",
       "    }\n",
       "\n",
       "    .dataframe thead th {\n",
       "        text-align: right;\n",
       "    }\n",
       "</style>\n",
       "<table border=\"1\" class=\"dataframe\">\n",
       "  <thead>\n",
       "    <tr style=\"text-align: right;\">\n",
       "      <th></th>\n",
       "      <th>train_loss</th>\n",
       "      <th>train_acc</th>\n",
       "      <th>val_acc</th>\n",
       "      <th>test_acc</th>\n",
       "      <th>num_feats</th>\n",
       "      <th>num_emb</th>\n",
       "    </tr>\n",
       "  </thead>\n",
       "  <tbody>\n",
       "    <tr>\n",
       "      <th>95</th>\n",
       "      <td>0.516584</td>\n",
       "      <td>1.00</td>\n",
       "      <td>1.00</td>\n",
       "      <td>1.0</td>\n",
       "      <td>6154</td>\n",
       "      <td>14</td>\n",
       "    </tr>\n",
       "    <tr>\n",
       "      <th>96</th>\n",
       "      <td>0.539191</td>\n",
       "      <td>0.99</td>\n",
       "      <td>0.99</td>\n",
       "      <td>1.0</td>\n",
       "      <td>6152</td>\n",
       "      <td>14</td>\n",
       "    </tr>\n",
       "    <tr>\n",
       "      <th>97</th>\n",
       "      <td>0.614073</td>\n",
       "      <td>0.97</td>\n",
       "      <td>1.00</td>\n",
       "      <td>1.0</td>\n",
       "      <td>6151</td>\n",
       "      <td>14</td>\n",
       "    </tr>\n",
       "    <tr>\n",
       "      <th>98</th>\n",
       "      <td>0.527423</td>\n",
       "      <td>1.00</td>\n",
       "      <td>1.00</td>\n",
       "      <td>1.0</td>\n",
       "      <td>6147</td>\n",
       "      <td>14</td>\n",
       "    </tr>\n",
       "    <tr>\n",
       "      <th>99</th>\n",
       "      <td>0.509614</td>\n",
       "      <td>1.00</td>\n",
       "      <td>1.00</td>\n",
       "      <td>1.0</td>\n",
       "      <td>6143</td>\n",
       "      <td>14</td>\n",
       "    </tr>\n",
       "  </tbody>\n",
       "</table>\n",
       "</div>"
      ],
      "text/plain": [
       "    train_loss  train_acc  val_acc  test_acc  num_feats  num_emb\n",
       "95    0.516584       1.00     1.00       1.0       6154       14\n",
       "96    0.539191       0.99     0.99       1.0       6152       14\n",
       "97    0.614073       0.97     1.00       1.0       6151       14\n",
       "98    0.527423       1.00     1.00       1.0       6147       14\n",
       "99    0.509614       1.00     1.00       1.0       6143       14"
      ]
     },
     "execution_count": 243,
     "metadata": {},
     "output_type": "execute_result"
    }
   ],
   "source": [
    "longer_dual_stg_gini_history.tail(5)"
   ]
  },
  {
   "cell_type": "markdown",
   "metadata": {},
   "source": [
    "SFFS Filtered (0.5)"
   ]
  },
  {
   "cell_type": "code",
   "execution_count": 218,
   "metadata": {},
   "outputs": [
    {
     "name": "stdout",
     "output_type": "stream",
     "text": [
      "total computation time for pinv is: 244.09113812446594\n"
     ]
    },
    {
     "name": "stderr",
     "output_type": "stream",
     "text": [
      "c:\\Users\\HONGYI001\\Desktop\\STG\\SFFS.py:29: RuntimeWarning: divide by zero encountered in double_scalars\n",
      "  f_statistics[j] = theta_param[j] ** 2 / diag_x[j]\n",
      "c:\\Users\\HONGYI001\\Desktop\\STG\\SFFS.py:29: RuntimeWarning: invalid value encountered in double_scalars\n",
      "  f_statistics[j] = theta_param[j] ** 2 / diag_x[j]\n"
     ]
    }
   ],
   "source": [
    "from SFFS import get_f_stat_index\n",
    "index = get_f_stat_index(X, y)"
   ]
  },
  {
   "cell_type": "code",
   "execution_count": 223,
   "metadata": {},
   "outputs": [
    {
     "name": "stdout",
     "output_type": "stream",
     "text": [
      "(200, 5000)\n"
     ]
    }
   ],
   "source": [
    "X_filtered = X[:, index[:int(0.5*len(index))]]\n",
    "print(X_filtered.shape)"
   ]
  },
  {
   "cell_type": "code",
   "execution_count": 229,
   "metadata": {},
   "outputs": [
    {
     "name": "stdout",
     "output_type": "stream",
     "text": [
      "Client 0: Feature Index 0-1666\n",
      "Client 1: Feature Index 1667-3333\n",
      "Server : Feature Index 3334-4999\n"
     ]
    }
   ],
   "source": [
    "dataset = VFLDataset(data_source=(X_filtered, y), \n",
    "                    num_clients=2,\n",
    "                    gini_portion=None,\n",
    "                    insert_noise=False,\n",
    "                    test_size=0.5)\n",
    "train_loader = DataLoader(dataset.train(), batch_size=128, shuffle=True)\n",
    "val_loader = DataLoader(dataset.valid(), batch_size=1000, shuffle=True)\n",
    "test_loader = DataLoader(dataset.test(), batch_size=1000, shuffle=True)\n",
    "input_dim_list = dataset.get_input_dim_list()\n",
    "output_dim = np.unique(y).size\n",
    "criterion = torch.nn.CrossEntropyLoss()"
   ]
  },
  {
   "cell_type": "code",
   "execution_count": 230,
   "metadata": {},
   "outputs": [],
   "source": [
    "%%capture\n",
    "models, top_model = VFL.make_binary_models(\n",
    "                            input_dim_list=input_dim_list,\n",
    "                            type='FNN',\n",
    "                            emb_dim=8,\n",
    "                            output_dim=output_dim, hidden_dims=[8, 8],\n",
    "                            activation='relu')\n",
    "sffs_fnn_history = VFL.train(models, top_model, train_loader, val_loader, test_loader,\n",
    "                epochs=40, optimizer='Adam',verbose=True, save_mask_at=10000, \n",
    "                criterion=criterion)"
   ]
  },
  {
   "cell_type": "code",
   "execution_count": 231,
   "metadata": {},
   "outputs": [
    {
     "data": {
      "text/html": [
       "<div>\n",
       "<style scoped>\n",
       "    .dataframe tbody tr th:only-of-type {\n",
       "        vertical-align: middle;\n",
       "    }\n",
       "\n",
       "    .dataframe tbody tr th {\n",
       "        vertical-align: top;\n",
       "    }\n",
       "\n",
       "    .dataframe thead th {\n",
       "        text-align: right;\n",
       "    }\n",
       "</style>\n",
       "<table border=\"1\" class=\"dataframe\">\n",
       "  <thead>\n",
       "    <tr style=\"text-align: right;\">\n",
       "      <th></th>\n",
       "      <th>train_loss</th>\n",
       "      <th>train_acc</th>\n",
       "      <th>val_acc</th>\n",
       "      <th>test_acc</th>\n",
       "    </tr>\n",
       "  </thead>\n",
       "  <tbody>\n",
       "    <tr>\n",
       "      <th>35</th>\n",
       "      <td>0.495296</td>\n",
       "      <td>0.95</td>\n",
       "      <td>0.95</td>\n",
       "      <td>0.95</td>\n",
       "    </tr>\n",
       "    <tr>\n",
       "      <th>36</th>\n",
       "      <td>0.480403</td>\n",
       "      <td>0.95</td>\n",
       "      <td>0.95</td>\n",
       "      <td>0.95</td>\n",
       "    </tr>\n",
       "    <tr>\n",
       "      <th>37</th>\n",
       "      <td>0.464686</td>\n",
       "      <td>0.95</td>\n",
       "      <td>0.95</td>\n",
       "      <td>0.95</td>\n",
       "    </tr>\n",
       "    <tr>\n",
       "      <th>38</th>\n",
       "      <td>0.448242</td>\n",
       "      <td>0.95</td>\n",
       "      <td>0.95</td>\n",
       "      <td>0.95</td>\n",
       "    </tr>\n",
       "    <tr>\n",
       "      <th>39</th>\n",
       "      <td>0.431058</td>\n",
       "      <td>0.95</td>\n",
       "      <td>0.97</td>\n",
       "      <td>0.97</td>\n",
       "    </tr>\n",
       "  </tbody>\n",
       "</table>\n",
       "</div>"
      ],
      "text/plain": [
       "    train_loss  train_acc  val_acc  test_acc\n",
       "35    0.495296       0.95     0.95      0.95\n",
       "36    0.480403       0.95     0.95      0.95\n",
       "37    0.464686       0.95     0.95      0.95\n",
       "38    0.448242       0.95     0.95      0.95\n",
       "39    0.431058       0.95     0.97      0.97"
      ]
     },
     "execution_count": 231,
     "metadata": {},
     "output_type": "execute_result"
    }
   ],
   "source": [
    "sffs_fnn_history.tail(5)"
   ]
  },
  {
   "cell_type": "markdown",
   "metadata": {},
   "source": [
    "---\n",
    "# Summary"
   ]
  },
  {
   "cell_type": "markdown",
   "metadata": {},
   "source": [
    "| Model        | # Features | Test Acc | Ratio Embedding  | \n",
    "|--------------|------------|----------|-------------------|  \n",
    "| FNN          | 10000      | 0.95     | 1                 |  \n",
    "| STG          | 10000      | 0.97     | 1                 |\n",
    "| STG+GINI     | 6357       | 1        | 1                 |\n",
    "| DualSTG+GINI | 5893       | 1        | 1                 |\n",
    "| DualSTG+GINI (double)| 6154| 1        | 0.5833\n",
    "| SFFS->FNN    | 5000       | 0.97     | 1                 | "
   ]
  },
  {
   "cell_type": "code",
   "execution_count": 245,
   "metadata": {},
   "outputs": [],
   "source": [
    "import dill\n",
    "dill.dump_session('ArceneDataExperiments.db')"
   ]
  }
 ],
 "metadata": {
  "interpreter": {
   "hash": "1579d4a348c2ef16482c05d3cfac916f73c8945ddf1938a1e045b3bdea82eece"
  },
  "kernelspec": {
   "display_name": "Python 3.9.7 ('VFL')",
   "language": "python",
   "name": "python3"
  },
  "language_info": {
   "codemirror_mode": {
    "name": "ipython",
    "version": 3
   },
   "file_extension": ".py",
   "mimetype": "text/x-python",
   "name": "python",
   "nbconvert_exporter": "python",
   "pygments_lexer": "ipython3",
   "version": "3.11.3"
  },
  "orig_nbformat": 4
 },
 "nbformat": 4,
 "nbformat_minor": 2
}
